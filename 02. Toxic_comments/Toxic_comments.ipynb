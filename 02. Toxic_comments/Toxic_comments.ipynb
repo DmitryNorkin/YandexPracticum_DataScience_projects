{
 "cells": [
  {
   "cell_type": "markdown",
   "id": "693d8636",
   "metadata": {},
   "source": [
    "<div style=\"border:solid gray 2px; padding: 20px\">  \n",
    "    \n",
    "<b> Описание проекта: </b>\n",
    "    \n",
    "Интернет-магазин «Викишоп» запускает новый сервис. Теперь пользователи могут редактировать и дополнять описания товаров, как в вики-сообществах.  \n",
    "То есть клиенты предлагают свои правки и комментируют изменения других. Магазину нужен инструмент, который будет искать токсичные комментарии и отправлять их на модерацию.  \n",
    "\n",
    "Необходимо:  \n",
    "- Обучить модель классифицировать комментарии на позитивные и негативные. В нашем распоряжении набор данных с разметкой о токсичности правок.  \n",
    "    \n",
    "- Построить модель со значением метрики качества F1 не меньше 0.75. "
   ]
  },
  {
   "cell_type": "markdown",
   "id": "0cc7231b",
   "metadata": {},
   "source": [
    "## Подготовка данных"
   ]
  },
  {
   "cell_type": "markdown",
   "id": "3ab47d54",
   "metadata": {},
   "source": [
    "### Импорт Библиотек и загрузка данных"
   ]
  },
  {
   "cell_type": "code",
   "execution_count": 1,
   "id": "f8ce55ad",
   "metadata": {
    "scrolled": true
   },
   "outputs": [],
   "source": [
    "import pandas as pd\n",
    "import numpy as np\n",
    "import os\n",
    "import time\n",
    "import matplotlib.pyplot as plt\n",
    "import seaborn as sns\n",
    "import spacy\n",
    "import json\n",
    "\n",
    "# Подготовка данных\n",
    "from sklearn.model_selection import train_test_split, RandomizedSearchCV, GridSearchCV\n",
    "from sklearn.feature_extraction.text import TfidfVectorizer\n",
    "\n",
    "# Модели\n",
    "from sklearn.svm import LinearSVC\n",
    "from sklearn.linear_model import LogisticRegression\n",
    "import lightgbm as lgb\n",
    "from sklearn.dummy import DummyClassifier\n",
    "\n",
    "# Pipeline\n",
    "from sklearn.pipeline import Pipeline\n",
    "\n",
    "# Метрики\n",
    "from sklearn.metrics import f1_score, confusion_matrix, ConfusionMatrixDisplay\n",
    "\n",
    "# Обработка текста\n",
    "import re\n",
    "\n",
    "# Загрузка файла\n",
    "import requests\n",
    "import urllib\n",
    "from urllib.parse import urlencode\n",
    "\n",
    "\n",
    "RANDOM = 12345"
   ]
  },
  {
   "cell_type": "code",
   "execution_count": 2,
   "id": "e6afa7f6",
   "metadata": {},
   "outputs": [],
   "source": [
    "pth1 = '/Users/macbookair13i5/Desktop/datasets/Datasets/toxic_comments.csv'\n",
    "pth2 = '/datasets/toxic_comments.csv'\n",
    "pth3 = 'https://code.s3.yandex.net/datasets/toxic_comments.csv'\n",
    "\n",
    "if os.path.exists(pth1):\n",
    "    df = pd.read_csv(pth1)\n",
    "elif os.path.exists(pth2):\n",
    "    df = pd.read_csv(pth2)\n",
    "elif os.path.exists(pth3):\n",
    "    df = pd.read_csv(pth3)\n",
    "else:\n",
    "    display('Something is wrong')"
   ]
  },
  {
   "cell_type": "code",
   "execution_count": 3,
   "id": "8fd2e76d",
   "metadata": {},
   "outputs": [],
   "source": [
    "pd.set_option('display.max_colwidth', 500)"
   ]
  },
  {
   "cell_type": "code",
   "execution_count": 4,
   "id": "ec4a9e82",
   "metadata": {},
   "outputs": [
    {
     "data": {
      "text/html": [
       "<div>\n",
       "<style scoped>\n",
       "    .dataframe tbody tr th:only-of-type {\n",
       "        vertical-align: middle;\n",
       "    }\n",
       "\n",
       "    .dataframe tbody tr th {\n",
       "        vertical-align: top;\n",
       "    }\n",
       "\n",
       "    .dataframe thead th {\n",
       "        text-align: right;\n",
       "    }\n",
       "</style>\n",
       "<table border=\"1\" class=\"dataframe\">\n",
       "  <thead>\n",
       "    <tr style=\"text-align: right;\">\n",
       "      <th></th>\n",
       "      <th>Unnamed: 0</th>\n",
       "      <th>text</th>\n",
       "      <th>toxic</th>\n",
       "    </tr>\n",
       "  </thead>\n",
       "  <tbody>\n",
       "    <tr>\n",
       "      <th>0</th>\n",
       "      <td>0</td>\n",
       "      <td>Explanation\\nWhy the edits made under my username Hardcore Metallica Fan were reverted? They weren't vandalisms, just closure on some GAs after I voted at New York Dolls FAC. And please don't remove the template from the talk page since I'm retired now.89.205.38.27</td>\n",
       "      <td>0</td>\n",
       "    </tr>\n",
       "    <tr>\n",
       "      <th>1</th>\n",
       "      <td>1</td>\n",
       "      <td>D'aww! He matches this background colour I'm seemingly stuck with. Thanks.  (talk) 21:51, January 11, 2016 (UTC)</td>\n",
       "      <td>0</td>\n",
       "    </tr>\n",
       "    <tr>\n",
       "      <th>2</th>\n",
       "      <td>2</td>\n",
       "      <td>Hey man, I'm really not trying to edit war. It's just that this guy is constantly removing relevant information and talking to me through edits instead of my talk page. He seems to care more about the formatting than the actual info.</td>\n",
       "      <td>0</td>\n",
       "    </tr>\n",
       "    <tr>\n",
       "      <th>3</th>\n",
       "      <td>3</td>\n",
       "      <td>\"\\nMore\\nI can't make any real suggestions on improvement - I wondered if the section statistics should be later on, or a subsection of \"\"types of accidents\"\"  -I think the references may need tidying so that they are all in the exact same format ie date format etc. I can do that later on, if no-one else does first - if you have any preferences for formatting style on references or want to do it yourself please let me know.\\n\\nThere appears to be a backlog on articles for review so I guess t...</td>\n",
       "      <td>0</td>\n",
       "    </tr>\n",
       "    <tr>\n",
       "      <th>4</th>\n",
       "      <td>4</td>\n",
       "      <td>You, sir, are my hero. Any chance you remember what page that's on?</td>\n",
       "      <td>0</td>\n",
       "    </tr>\n",
       "  </tbody>\n",
       "</table>\n",
       "</div>"
      ],
      "text/plain": [
       "   Unnamed: 0  \\\n",
       "0           0   \n",
       "1           1   \n",
       "2           2   \n",
       "3           3   \n",
       "4           4   \n",
       "\n",
       "                                                                                                                                                                                                                                                                                                                                                                                                                                                                                                                  text  \\\n",
       "0                                                                                                                                                                                                                                            Explanation\\nWhy the edits made under my username Hardcore Metallica Fan were reverted? They weren't vandalisms, just closure on some GAs after I voted at New York Dolls FAC. And please don't remove the template from the talk page since I'm retired now.89.205.38.27   \n",
       "1                                                                                                                                                                                                                                                                                                                                                                                                     D'aww! He matches this background colour I'm seemingly stuck with. Thanks.  (talk) 21:51, January 11, 2016 (UTC)   \n",
       "2                                                                                                                                                                                                                                                                            Hey man, I'm really not trying to edit war. It's just that this guy is constantly removing relevant information and talking to me through edits instead of my talk page. He seems to care more about the formatting than the actual info.   \n",
       "3  \"\\nMore\\nI can't make any real suggestions on improvement - I wondered if the section statistics should be later on, or a subsection of \"\"types of accidents\"\"  -I think the references may need tidying so that they are all in the exact same format ie date format etc. I can do that later on, if no-one else does first - if you have any preferences for formatting style on references or want to do it yourself please let me know.\\n\\nThere appears to be a backlog on articles for review so I guess t...   \n",
       "4                                                                                                                                                                                                                                                                                                                                                                                                                                                  You, sir, are my hero. Any chance you remember what page that's on?   \n",
       "\n",
       "   toxic  \n",
       "0      0  \n",
       "1      0  \n",
       "2      0  \n",
       "3      0  \n",
       "4      0  "
      ]
     },
     "execution_count": 4,
     "metadata": {},
     "output_type": "execute_result"
    }
   ],
   "source": [
    "df.head()"
   ]
  },
  {
   "cell_type": "code",
   "execution_count": 5,
   "id": "5c35cb84",
   "metadata": {},
   "outputs": [
    {
     "name": "stdout",
     "output_type": "stream",
     "text": [
      "<class 'pandas.core.frame.DataFrame'>\n",
      "RangeIndex: 159292 entries, 0 to 159291\n",
      "Data columns (total 3 columns):\n",
      " #   Column      Non-Null Count   Dtype \n",
      "---  ------      --------------   ----- \n",
      " 0   Unnamed: 0  159292 non-null  int64 \n",
      " 1   text        159292 non-null  object\n",
      " 2   toxic       159292 non-null  int64 \n",
      "dtypes: int64(2), object(1)\n",
      "memory usage: 3.6+ MB\n"
     ]
    }
   ],
   "source": [
    "df.info()"
   ]
  },
  {
   "cell_type": "code",
   "execution_count": 6,
   "id": "2b678e2f",
   "metadata": {},
   "outputs": [],
   "source": [
    "# Удалим неинформатиыный столбец \"Unnamed: 0\"\n",
    "\n",
    "df = df.drop(['Unnamed: 0'], axis = 1)"
   ]
  },
  {
   "cell_type": "markdown",
   "id": "a4643b12",
   "metadata": {},
   "source": [
    "### Соотношение классов"
   ]
  },
  {
   "cell_type": "code",
   "execution_count": 7,
   "id": "47785d9b",
   "metadata": {
    "scrolled": true
   },
   "outputs": [
    {
     "data": {
      "image/png": "[encoded data removed]",
      "text/plain": [
       "<Figure size 700x300 with 1 Axes>"
      ]
     },
     "metadata": {},
     "output_type": "display_data"
    }
   ],
   "source": [
    "# Посмотрим на соотношение классов\n",
    "fig,ax = plt.subplots(figsize = ((7,3)))\n",
    "df['toxic'].value_counts(normalize = True).plot(\n",
    "    kind = 'bar',\n",
    "    title = 'Соотношение классов'\n",
    ")\n",
    "ax.set_xticklabels(['Не токсичные', 'Токсичные'], rotation=0)\n",
    "plt.show()"
   ]
  },
  {
   "cell_type": "code",
   "execution_count": 8,
   "id": "796797a8",
   "metadata": {},
   "outputs": [
    {
     "name": "stdout",
     "output_type": "stream",
     "text": [
      "Дубликатов до очистки текста: 0\n"
     ]
    }
   ],
   "source": [
    "# Проверка явных дубликатов\n",
    "\n",
    "print(f'Дубликатов до очистки текста: {df.duplicated().sum()}')"
   ]
  },
  {
   "cell_type": "markdown",
   "id": "cd0f3ff6",
   "metadata": {},
   "source": [
    "### Очистка текста"
   ]
  },
  {
   "cell_type": "code",
   "execution_count": 9,
   "id": "88b743be",
   "metadata": {},
   "outputs": [],
   "source": [
    "def clear_text(text):\n",
    "    \n",
    "    clear=re.sub(r'[^a-zA-Z]', ' ', text) # все кроме букв\n",
    "    clear=re.sub(r\"\\s+[a-zA-Z]\\s+\", ' ', clear) # одиночные буквы\n",
    "    clear=re.sub(r'\\s+', ' ', clear) # лишние пробелы\n",
    "     \n",
    "    return ' '.join(clear.split())"
   ]
  },
  {
   "cell_type": "code",
   "execution_count": 10,
   "id": "d5667ab1",
   "metadata": {},
   "outputs": [],
   "source": [
    "# Очистка текста\n",
    "\n",
    "df['text'] = df['text'].apply(clear_text).str.lower()"
   ]
  },
  {
   "cell_type": "code",
   "execution_count": 11,
   "id": "70633b9e",
   "metadata": {},
   "outputs": [
    {
     "data": {
      "text/html": [
       "<div>\n",
       "<style scoped>\n",
       "    .dataframe tbody tr th:only-of-type {\n",
       "        vertical-align: middle;\n",
       "    }\n",
       "\n",
       "    .dataframe tbody tr th {\n",
       "        vertical-align: top;\n",
       "    }\n",
       "\n",
       "    .dataframe thead th {\n",
       "        text-align: right;\n",
       "    }\n",
       "</style>\n",
       "<table border=\"1\" class=\"dataframe\">\n",
       "  <thead>\n",
       "    <tr style=\"text-align: right;\">\n",
       "      <th></th>\n",
       "      <th>text</th>\n",
       "      <th>toxic</th>\n",
       "    </tr>\n",
       "  </thead>\n",
       "  <tbody>\n",
       "    <tr>\n",
       "      <th>0</th>\n",
       "      <td>explanation why the edits made under my username hardcore metallica fan were reverted they weren vandalisms just closure on some gas after voted at new york dolls fac and please don remove the template from the talk page since m retired now</td>\n",
       "      <td>0</td>\n",
       "    </tr>\n",
       "    <tr>\n",
       "      <th>1</th>\n",
       "      <td>d aww he matches this background colour m seemingly stuck with thanks talk january utc</td>\n",
       "      <td>0</td>\n",
       "    </tr>\n",
       "    <tr>\n",
       "      <th>2</th>\n",
       "      <td>hey man m really not trying to edit war it just that this guy is constantly removing relevant information and talking to me through edits instead of my talk page he seems to care more about the formatting than the actual info</td>\n",
       "      <td>0</td>\n",
       "    </tr>\n",
       "    <tr>\n",
       "      <th>3</th>\n",
       "      <td>more can make any real suggestions on improvement wondered if the section statistics should be later on or subsection of types of accidents think the references may need tidying so that they are all in the exact same format ie date format etc can do that later on if no one else does first if you have any preferences for formatting style on references or want to do it yourself please let me know there appears to be backlog on articles for review so guess there may be delay until reviewer turn...</td>\n",
       "      <td>0</td>\n",
       "    </tr>\n",
       "    <tr>\n",
       "      <th>4</th>\n",
       "      <td>you sir are my hero any chance you remember what page that on</td>\n",
       "      <td>0</td>\n",
       "    </tr>\n",
       "  </tbody>\n",
       "</table>\n",
       "</div>"
      ],
      "text/plain": [
       "                                                                                                                                                                                                                                                                                                                                                                                                                                                                                                                  text  \\\n",
       "0                                                                                                                                                                                                                                                                     explanation why the edits made under my username hardcore metallica fan were reverted they weren vandalisms just closure on some gas after voted at new york dolls fac and please don remove the template from the talk page since m retired now   \n",
       "1                                                                                                                                                                                                                                                                                                                                                                                                                               d aww he matches this background colour m seemingly stuck with thanks talk january utc   \n",
       "2                                                                                                                                                                                                                                                                                    hey man m really not trying to edit war it just that this guy is constantly removing relevant information and talking to me through edits instead of my talk page he seems to care more about the formatting than the actual info   \n",
       "3  more can make any real suggestions on improvement wondered if the section statistics should be later on or subsection of types of accidents think the references may need tidying so that they are all in the exact same format ie date format etc can do that later on if no one else does first if you have any preferences for formatting style on references or want to do it yourself please let me know there appears to be backlog on articles for review so guess there may be delay until reviewer turn...   \n",
       "4                                                                                                                                                                                                                                                                                                                                                                                                                                                        you sir are my hero any chance you remember what page that on   \n",
       "\n",
       "   toxic  \n",
       "0      0  \n",
       "1      0  \n",
       "2      0  \n",
       "3      0  \n",
       "4      0  "
      ]
     },
     "execution_count": 11,
     "metadata": {},
     "output_type": "execute_result"
    }
   ],
   "source": [
    "df.head()"
   ]
  },
  {
   "cell_type": "code",
   "execution_count": 12,
   "id": "a46d24c7",
   "metadata": {},
   "outputs": [
    {
     "name": "stdout",
     "output_type": "stream",
     "text": [
      "Дубликатов после очистки текста: 1332\n"
     ]
    }
   ],
   "source": [
    "# Дубликаты после очистки текста\n",
    "\n",
    "print(f'Дубликатов после очистки текста: {df.duplicated().sum()}')"
   ]
  },
  {
   "cell_type": "code",
   "execution_count": 13,
   "id": "fbe37eec",
   "metadata": {},
   "outputs": [],
   "source": [
    "# УДалим дубликаты\n",
    "\n",
    "df = df.drop_duplicates()"
   ]
  },
  {
   "cell_type": "code",
   "execution_count": 14,
   "id": "c580e356",
   "metadata": {
    "scrolled": true
   },
   "outputs": [
    {
     "name": "stderr",
     "output_type": "stream",
     "text": [
      "/Users/macbookair13i5/opt/anaconda3/lib/python3.9/site-packages/spacy/util.py:275: UserWarning: [W031] Model 'en_core_web_sm' (2.2.0) requires spaCy v2.2 and is incompatible with the current spaCy version (2.3.5). This may lead to unexpected results or runtime errors. To resolve this, download a newer compatible model or retrain your custom model with the current spaCy version. For more details and available updates, run: python -m spacy validate\n",
      "  warnings.warn(warn_msg)\n"
     ]
    }
   ],
   "source": [
    "disabled_pipes = [ \"parser\",  \"ner\"]\n",
    "nlp = spacy.load('en_core_web_sm', disable=disabled_pipes)"
   ]
  },
  {
   "cell_type": "code",
   "execution_count": 15,
   "id": "c6b4720f",
   "metadata": {},
   "outputs": [],
   "source": [
    "def lemme_text(text):\n",
    "    \n",
    "    doc=nlp(text)\n",
    "    \n",
    "    return ' '.join([token.lemma_ for token in doc])"
   ]
  },
  {
   "cell_type": "code",
   "execution_count": 16,
   "id": "dde867a5",
   "metadata": {},
   "outputs": [
    {
     "name": "stdout",
     "output_type": "stream",
     "text": [
      "CPU times: user 549 ms, sys: 84.4 ms, total: 634 ms\n",
      "Wall time: 644 ms\n"
     ]
    }
   ],
   "source": [
    "%%time\n",
    "\n",
    "try:\n",
    "    df = pd.read_csv('/Users/macbookair13i5/Desktop/datasets/Datasets/toxic_lemm.csv').drop(['Unnamed: 0'], axis = 1)\n",
    "\n",
    "# Выполнялось Wall time: 10min 46s. Готовый файл выше по ссылке на ЯндексДиске\n",
    "\n",
    "except:\n",
    "    df['text'] = df['text'].apply(lemme_text)"
   ]
  },
  {
   "cell_type": "code",
   "execution_count": 17,
   "id": "b8214256",
   "metadata": {},
   "outputs": [],
   "source": [
    "df = df.dropna()"
   ]
  },
  {
   "cell_type": "code",
   "execution_count": 18,
   "id": "6bb59118",
   "metadata": {
    "scrolled": true
   },
   "outputs": [
    {
     "data": {
      "text/html": [
       "<div>\n",
       "<style scoped>\n",
       "    .dataframe tbody tr th:only-of-type {\n",
       "        vertical-align: middle;\n",
       "    }\n",
       "\n",
       "    .dataframe tbody tr th {\n",
       "        vertical-align: top;\n",
       "    }\n",
       "\n",
       "    .dataframe thead th {\n",
       "        text-align: right;\n",
       "    }\n",
       "</style>\n",
       "<table border=\"1\" class=\"dataframe\">\n",
       "  <thead>\n",
       "    <tr style=\"text-align: right;\">\n",
       "      <th></th>\n",
       "      <th>text</th>\n",
       "      <th>toxic</th>\n",
       "    </tr>\n",
       "  </thead>\n",
       "  <tbody>\n",
       "    <tr>\n",
       "      <th>0</th>\n",
       "      <td>explanation why the edit make under -PRON- username hardcore metallica fan be revert -PRON- weren vandalisms just closure on some gas after vote at new york doll fac and please don remove the template from the talk page since m retire now</td>\n",
       "      <td>0</td>\n",
       "    </tr>\n",
       "    <tr>\n",
       "      <th>1</th>\n",
       "      <td>d aww -PRON- match this background colour m seemingly stick with thank talk january utc</td>\n",
       "      <td>0</td>\n",
       "    </tr>\n",
       "    <tr>\n",
       "      <th>2</th>\n",
       "      <td>hey man m really not try to edit war -PRON- just that this guy be constantly remove relevant information and talk to -PRON- through edit instead of -PRON- talk page -PRON- seem to care more about the formatting than the actual info</td>\n",
       "      <td>0</td>\n",
       "    </tr>\n",
       "    <tr>\n",
       "      <th>3</th>\n",
       "      <td>more can make any real suggestion on improvement wonder if the section statistic should be later on or subsection of type of accident think the reference may need tidy so that -PRON- be all in the exact same format ie date format etc can do that later on if no one else do first if -PRON- have any preference for format style on reference or want to do -PRON- -PRON- please let -PRON- know there appear to be backlog on article for review so guess there may be delay until review turn up -PRON- l...</td>\n",
       "      <td>0</td>\n",
       "    </tr>\n",
       "    <tr>\n",
       "      <th>4</th>\n",
       "      <td>-PRON- sir be -PRON- hero any chance -PRON- remember what page that on</td>\n",
       "      <td>0</td>\n",
       "    </tr>\n",
       "  </tbody>\n",
       "</table>\n",
       "</div>"
      ],
      "text/plain": [
       "                                                                                                                                                                                                                                                                                                                                                                                                                                                                                                                  text  \\\n",
       "0                                                                                                                                                                                                                                                                       explanation why the edit make under -PRON- username hardcore metallica fan be revert -PRON- weren vandalisms just closure on some gas after vote at new york doll fac and please don remove the template from the talk page since m retire now   \n",
       "1                                                                                                                                                                                                                                                                                                                                                                                                                              d aww -PRON- match this background colour m seemingly stick with thank talk january utc   \n",
       "2                                                                                                                                                                                                                                                                              hey man m really not try to edit war -PRON- just that this guy be constantly remove relevant information and talk to -PRON- through edit instead of -PRON- talk page -PRON- seem to care more about the formatting than the actual info   \n",
       "3  more can make any real suggestion on improvement wonder if the section statistic should be later on or subsection of type of accident think the reference may need tidy so that -PRON- be all in the exact same format ie date format etc can do that later on if no one else do first if -PRON- have any preference for format style on reference or want to do -PRON- -PRON- please let -PRON- know there appear to be backlog on article for review so guess there may be delay until review turn up -PRON- l...   \n",
       "4                                                                                                                                                                                                                                                                                                                                                                                                                                               -PRON- sir be -PRON- hero any chance -PRON- remember what page that on   \n",
       "\n",
       "   toxic  \n",
       "0      0  \n",
       "1      0  \n",
       "2      0  \n",
       "3      0  \n",
       "4      0  "
      ]
     },
     "execution_count": 18,
     "metadata": {},
     "output_type": "execute_result"
    }
   ],
   "source": [
    "df.head()"
   ]
  },
  {
   "cell_type": "markdown",
   "id": "c0d55674",
   "metadata": {},
   "source": [
    "### Разделение на обучающую и тестовую выборки"
   ]
  },
  {
   "cell_type": "code",
   "execution_count": 19,
   "id": "41a00faa",
   "metadata": {},
   "outputs": [],
   "source": [
    "# train_test_split\n",
    "\n",
    "features_train, features_test, target_train, target_test = train_test_split(\n",
    "    df[\"text\"], df[\"toxic\"], test_size=0.1, random_state=RANDOM\n",
    ")"
   ]
  },
  {
   "cell_type": "code",
   "execution_count": 20,
   "id": "86faff56",
   "metadata": {
    "scrolled": true
   },
   "outputs": [
    {
     "name": "stdout",
     "output_type": "stream",
     "text": [
      "(142162,)\n",
      "(15796,)\n",
      "(142162,)\n",
      "(15796,)\n"
     ]
    }
   ],
   "source": [
    "# Размеры выборок\n",
    "\n",
    "print(features_train.shape)\n",
    "print(features_test.shape)\n",
    "print(target_train.shape)\n",
    "print(target_test.shape)"
   ]
  },
  {
   "cell_type": "markdown",
   "id": "3b4c59d8",
   "metadata": {},
   "source": [
    "### Векторизация Текста"
   ]
  },
  {
   "cell_type": "code",
   "execution_count": 21,
   "id": "19341fd9",
   "metadata": {},
   "outputs": [],
   "source": [
    "# tfidf + разбиение на n-grams\n",
    "\n",
    "vector = TfidfVectorizer(\n",
    "    stop_words = 'english', # стоп слова\n",
    "    \n",
    "    max_features=15000,                      # количество признаков 15000\n",
    "    min_df = 5,                                # минимальное количество встречаемости слов - 5\n",
    "    max_df = 0.7,                               # ограничение встречаемости слов выше 70 %\n",
    "    ngram_range = (1, 2),                      # н-граммы\n",
    "    binary = True                              # бинарная классификация\n",
    ")"
   ]
  },
  {
   "cell_type": "code",
   "execution_count": 22,
   "id": "dcaf5372",
   "metadata": {},
   "outputs": [],
   "source": [
    "# Обучение Векторайзера на train'e\n",
    "\n",
    "vectorizer = vector.fit(features_train)"
   ]
  },
  {
   "cell_type": "code",
   "execution_count": 23,
   "id": "78ddd389",
   "metadata": {},
   "outputs": [
    {
     "data": {
      "text/html": [
       "<style>#sk-container-id-1 {color: black;background-color: white;}#sk-container-id-1 pre{padding: 0;}#sk-container-id-1 div.sk-toggleable {background-color: white;}#sk-container-id-1 label.sk-toggleable__label {cursor: pointer;display: block;width: 100%;margin-bottom: 0;padding: 0.3em;box-sizing: border-box;text-align: center;}#sk-container-id-1 label.sk-toggleable__label-arrow:before {content: \"▸\";float: left;margin-right: 0.25em;color: #696969;}#sk-container-id-1 label.sk-toggleable__label-arrow:hover:before {color: black;}#sk-container-id-1 div.sk-estimator:hover label.sk-toggleable__label-arrow:before {color: black;}#sk-container-id-1 div.sk-toggleable__content {max-height: 0;max-width: 0;overflow: hidden;text-align: left;background-color: #f0f8ff;}#sk-container-id-1 div.sk-toggleable__content pre {margin: 0.2em;color: black;border-radius: 0.25em;background-color: #f0f8ff;}#sk-container-id-1 input.sk-toggleable__control:checked~div.sk-toggleable__content {max-height: 200px;max-width: 100%;overflow: auto;}#sk-container-id-1 input.sk-toggleable__control:checked~label.sk-toggleable__label-arrow:before {content: \"▾\";}#sk-container-id-1 div.sk-estimator input.sk-toggleable__control:checked~label.sk-toggleable__label {background-color: #d4ebff;}#sk-container-id-1 div.sk-label input.sk-toggleable__control:checked~label.sk-toggleable__label {background-color: #d4ebff;}#sk-container-id-1 input.sk-hidden--visually {border: 0;clip: rect(1px 1px 1px 1px);clip: rect(1px, 1px, 1px, 1px);height: 1px;margin: -1px;overflow: hidden;padding: 0;position: absolute;width: 1px;}#sk-container-id-1 div.sk-estimator {font-family: monospace;background-color: #f0f8ff;border: 1px dotted black;border-radius: 0.25em;box-sizing: border-box;margin-bottom: 0.5em;}#sk-container-id-1 div.sk-estimator:hover {background-color: #d4ebff;}#sk-container-id-1 div.sk-parallel-item::after {content: \"\";width: 100%;border-bottom: 1px solid gray;flex-grow: 1;}#sk-container-id-1 div.sk-label:hover label.sk-toggleable__label {background-color: #d4ebff;}#sk-container-id-1 div.sk-serial::before {content: \"\";position: absolute;border-left: 1px solid gray;box-sizing: border-box;top: 0;bottom: 0;left: 50%;z-index: 0;}#sk-container-id-1 div.sk-serial {display: flex;flex-direction: column;align-items: center;background-color: white;padding-right: 0.2em;padding-left: 0.2em;position: relative;}#sk-container-id-1 div.sk-item {position: relative;z-index: 1;}#sk-container-id-1 div.sk-parallel {display: flex;align-items: stretch;justify-content: center;background-color: white;position: relative;}#sk-container-id-1 div.sk-item::before, #sk-container-id-1 div.sk-parallel-item::before {content: \"\";position: absolute;border-left: 1px solid gray;box-sizing: border-box;top: 0;bottom: 0;left: 50%;z-index: -1;}#sk-container-id-1 div.sk-parallel-item {display: flex;flex-direction: column;z-index: 1;position: relative;background-color: white;}#sk-container-id-1 div.sk-parallel-item:first-child::after {align-self: flex-end;width: 50%;}#sk-container-id-1 div.sk-parallel-item:last-child::after {align-self: flex-start;width: 50%;}#sk-container-id-1 div.sk-parallel-item:only-child::after {width: 0;}#sk-container-id-1 div.sk-dashed-wrapped {border: 1px dashed gray;margin: 0 0.4em 0.5em 0.4em;box-sizing: border-box;padding-bottom: 0.4em;background-color: white;}#sk-container-id-1 div.sk-label label {font-family: monospace;font-weight: bold;display: inline-block;line-height: 1.2em;}#sk-container-id-1 div.sk-label-container {text-align: center;}#sk-container-id-1 div.sk-container {/* jupyter's `normalize.less` sets `[hidden] { display: none; }` but bootstrap.min.css set `[hidden] { display: none !important; }` so we also need the `!important` here to be able to override the default hidden behavior on the sphinx rendered scikit-learn.org. See: https://github.com/scikit-learn/scikit-learn/issues/21755 */display: inline-block !important;position: relative;}#sk-container-id-1 div.sk-text-repr-fallback {display: none;}</style><div id=\"sk-container-id-1\" class=\"sk-top-container\"><div class=\"sk-text-repr-fallback\"><pre>TfidfVectorizer(binary=True, max_df=0.7, max_features=15000, min_df=5,\n",
       "                ngram_range=(1, 2), stop_words=&#x27;english&#x27;)</pre><b>In a Jupyter environment, please rerun this cell to show the HTML representation or trust the notebook. <br />On GitHub, the HTML representation is unable to render, please try loading this page with nbviewer.org.</b></div><div class=\"sk-container\" hidden><div class=\"sk-item\"><div class=\"sk-estimator sk-toggleable\"><input class=\"sk-toggleable__control sk-hidden--visually\" id=\"sk-estimator-id-1\" type=\"checkbox\" checked><label for=\"sk-estimator-id-1\" class=\"sk-toggleable__label sk-toggleable__label-arrow\">TfidfVectorizer</label><div class=\"sk-toggleable__content\"><pre>TfidfVectorizer(binary=True, max_df=0.7, max_features=15000, min_df=5,\n",
       "                ngram_range=(1, 2), stop_words=&#x27;english&#x27;)</pre></div></div></div></div></div>"
      ],
      "text/plain": [
       "TfidfVectorizer(binary=True, max_df=0.7, max_features=15000, min_df=5,\n",
       "                ngram_range=(1, 2), stop_words='english')"
      ]
     },
     "execution_count": 23,
     "metadata": {},
     "output_type": "execute_result"
    }
   ],
   "source": [
    "vectorizer"
   ]
  },
  {
   "cell_type": "code",
   "execution_count": 24,
   "id": "2cf2288a",
   "metadata": {},
   "outputs": [],
   "source": [
    "# Функция Векторизации\n",
    "\n",
    "def vectorizing(features):\n",
    "    vector=vectorizer.transform(features)\n",
    "    return vector"
   ]
  },
  {
   "cell_type": "code",
   "execution_count": 25,
   "id": "832c09ec",
   "metadata": {},
   "outputs": [],
   "source": [
    "# Векторизация выборок\n",
    "\n",
    "features_train = vectorizing(features_train)\n",
    "features_test = vectorizing(features_test)"
   ]
  },
  {
   "cell_type": "markdown",
   "id": "967ed478",
   "metadata": {},
   "source": [
    "## Обучение моделей"
   ]
  },
  {
   "cell_type": "code",
   "execution_count": 26,
   "id": "49dd7ba8",
   "metadata": {},
   "outputs": [],
   "source": [
    "# Для результатов\n",
    "best_est = []\n",
    "best_params = []\n",
    "best_score = []"
   ]
  },
  {
   "cell_type": "code",
   "execution_count": 27,
   "id": "f4437aa6",
   "metadata": {},
   "outputs": [],
   "source": [
    "# LightGBM\n",
    "\n",
    "lgb = lgb.LGBMClassifier(n_jobs=-1, random_state=RANDOM)"
   ]
  },
  {
   "cell_type": "code",
   "execution_count": 28,
   "id": "ed9477da",
   "metadata": {},
   "outputs": [],
   "source": [
    "# LogisticRegression и LinearSVC\n",
    "\n",
    "logistic = LogisticRegression(n_jobs=-1, random_state=RANDOM)\n",
    "LinearSVC = LinearSVC(random_state=RANDOM)"
   ]
  },
  {
   "cell_type": "code",
   "execution_count": 29,
   "id": "6e32f0e8",
   "metadata": {},
   "outputs": [],
   "source": [
    "model_list = [logistic, LinearSVC, lgb]\n",
    "model_name = ['LogisticRegression', 'LinearSVC', 'LGBMClassifier']"
   ]
  },
  {
   "cell_type": "markdown",
   "id": "ae2bd310",
   "metadata": {},
   "source": [
    "### Подбор гиперпараметров (RandomizedSearchCV)"
   ]
  },
  {
   "cell_type": "code",
   "execution_count": 30,
   "id": "ae36b5bd",
   "metadata": {},
   "outputs": [],
   "source": [
    "# Гиперпараметры для LogisticRegression\n",
    "\n",
    "log_params = {\n",
    "    'C': [.1, 1, 2, 3, 5, 10, 12],\n",
    "    'class_weight': ['balanced', None],\n",
    "    'penalty': ['l2'],\n",
    "    'solver': ['sag']\n",
    "}"
   ]
  },
  {
   "cell_type": "code",
   "execution_count": 31,
   "id": "a456de2a",
   "metadata": {},
   "outputs": [],
   "source": [
    "# Гиперпараметры для LinearSVC\n",
    "\n",
    "svc_params = {\n",
    "    'C': [.1, .5, 1, 2, 3, 8, 10, 13],\n",
    "    'max_iter' : [100],\n",
    "}"
   ]
  },
  {
   "cell_type": "code",
   "execution_count": 32,
   "id": "b03f32d2",
   "metadata": {},
   "outputs": [],
   "source": [
    "# Гиперпараметры для LGBMClassifier\n",
    "\n",
    "lgb_params = {\n",
    "    'boosting_type': ['gbdt', 'dart'], \n",
    "    'num_leaves': [31, 35, 40], \n",
    "    'n_estimators': range(10, 200, 10), \n",
    "    'class_weight': ['balanced', None]\n",
    "}\n",
    "             "
   ]
  },
  {
   "cell_type": "code",
   "execution_count": 33,
   "id": "e2a16eaf",
   "metadata": {},
   "outputs": [],
   "source": [
    "params_list = list([log_params, svc_params, lgb_params])"
   ]
  },
  {
   "cell_type": "markdown",
   "id": "f06481c5",
   "metadata": {},
   "source": [
    "<div class=\"alert alert-info\">\n",
    "    \n",
    "<b>Комментарий:\n",
    "\n",
    "Подбор лучших гиперпараметров занял достаточно много времени (Wall time: 1h 12min 9s)\n",
    "Код ниже закоментирован, лучшие гиперпараметры сохранены отдельно"
   ]
  },
  {
   "cell_type": "code",
   "execution_count": 34,
   "id": "98529dad",
   "metadata": {},
   "outputs": [],
   "source": [
    "# Закоментировано, лучшие гиперпараметры сохранены отдельно\n",
    "#%%time\n",
    "#\n",
    "## Подбор лучших Гиперпараметров\n",
    "#\n",
    "#for n, model in enumerate (model_list):\n",
    "#    rs_model = RandomizedSearchCV(model, params_list[n], scoring = 'f1')\n",
    "#    rs_model.fit(features_train, target_train)\n",
    "#    print(rs_model.best_params_)\n",
    "#    print(rs_model.best_estimator_)"
   ]
  },
  {
   "cell_type": "code",
   "execution_count": 35,
   "id": "614968e0",
   "metadata": {},
   "outputs": [],
   "source": [
    "log_best_params = {\n",
    "    'solver': ['sag'],\n",
    "    'penalty': ['l2'],\n",
    "    'max_iter': [100],\n",
    "    'class_weight':[ None],\n",
    "    'C': [10]\n",
    "}"
   ]
  },
  {
   "cell_type": "code",
   "execution_count": 36,
   "id": "e15eb0f8",
   "metadata": {},
   "outputs": [],
   "source": [
    "svc_best_params = {\n",
    "    'max_iter': [500],\n",
    "    'C': [1]\n",
    "}"
   ]
  },
  {
   "cell_type": "code",
   "execution_count": 37,
   "id": "fdcee288",
   "metadata": {},
   "outputs": [],
   "source": [
    "lgb_best_params = {\n",
    "    'num_leaves': [35],\n",
    "    'n_estimators': [160],\n",
    "    'class_weight': [None],\n",
    "    'boosting_type': ['gbdt']\n",
    "}"
   ]
  },
  {
   "cell_type": "code",
   "execution_count": 38,
   "id": "35b4b4a5",
   "metadata": {},
   "outputs": [],
   "source": [
    "best_params.extend([log_best_params, svc_best_params, lgb_best_params])"
   ]
  },
  {
   "cell_type": "markdown",
   "id": "88254b0d",
   "metadata": {},
   "source": [
    "## CrossValidation моделей с лучшими гиперпараметрами"
   ]
  },
  {
   "cell_type": "markdown",
   "id": "899845ba",
   "metadata": {},
   "source": [
    "### Dummy"
   ]
  },
  {
   "cell_type": "code",
   "execution_count": 39,
   "id": "5dad16a7",
   "metadata": {},
   "outputs": [],
   "source": [
    "# Проверим на константной модели\n",
    "\n",
    "dummy = DummyClassifier()"
   ]
  },
  {
   "cell_type": "code",
   "execution_count": 40,
   "id": "aa8c4896",
   "metadata": {
    "scrolled": true
   },
   "outputs": [
    {
     "name": "stdout",
     "output_type": "stream",
     "text": [
      "f1-Dummy: 0.0\n"
     ]
    }
   ],
   "source": [
    "start = time.time()\n",
    "dummy.fit(features_train, target_train)\n",
    "end_fit = time.time() - start\n",
    "dummy_pred_train = dummy.predict(features_train)\n",
    "dummy_f1_train = f1_score(dummy_pred_train, target_train)\n",
    "\n",
    "print(f'f1-Dummy: {dummy_f1_train}')"
   ]
  },
  {
   "cell_type": "markdown",
   "id": "62aed0ba",
   "metadata": {},
   "source": [
    "Качество Dummy Нулевое"
   ]
  },
  {
   "cell_type": "code",
   "execution_count": 41,
   "id": "9a361625",
   "metadata": {
    "scrolled": true
   },
   "outputs": [
    {
     "name": "stdout",
     "output_type": "stream",
     "text": [
      "CPU times: user 23min 31s, sys: 22.6 s, total: 23min 53s\n",
      "Wall time: 8min 7s\n"
     ]
    }
   ],
   "source": [
    "%%time\n",
    "# Обучение и кроссвалидация моделей GridSearchCV (Wall time: 5min 59s)\n",
    "\n",
    "best_est = []\n",
    "best_score = None\n",
    "best_grid_train_score = []\n",
    "time_training_list = []\n",
    "\n",
    "\n",
    "for n, model in enumerate(model_list):\n",
    "    grid_model = GridSearchCV(model, best_params[n], scoring = 'f1')\n",
    "    \n",
    "    # Время обучения\n",
    "    start = time.time()\n",
    "    grid_model.fit(features_train, target_train)\n",
    "    end = time.time() - start\n",
    "    time_training_list.append(end)\n",
    "    \n",
    "    # F1-мера\n",
    "    best_grid_train_score.append(grid_model.best_score_)\n",
    "    \n",
    "    #Лучшая модель\n",
    "    best_est.append(grid_model.best_estimator_)"
   ]
  },
  {
   "cell_type": "code",
   "execution_count": 42,
   "id": "db290464",
   "metadata": {},
   "outputs": [
    {
     "name": "stdout",
     "output_type": "stream",
     "text": [
      " LogisticRegression, f1_score: 0.7709728601825399\n",
      " LinearSVC, f1_score: 0.7730282925178088\n",
      " LGBMClassifier, f1_score: 0.7610800270822972\n",
      "\n",
      " Лучшая модель - LinearSVC, f1: 0.7730282925178088\n"
     ]
    }
   ],
   "source": [
    "best_score = 0\n",
    "best_model = 0\n",
    "best_model_name = None\n",
    "\n",
    "for n, model in enumerate (best_est):\n",
    "    print(f' {model_name[n]}, f1_score: {best_grid_train_score[n]}')\n",
    "    if best_grid_train_score[n] > best_score:\n",
    "        best_score = best_grid_train_score[n]\n",
    "        best_model = model\n",
    "        best_model_name = model_name[n]\n",
    "print()        \n",
    "print(f' Лучшая модель - {best_model_name}, f1: {best_score}')"
   ]
  },
  {
   "cell_type": "code",
   "execution_count": 43,
   "id": "99ce7d9c",
   "metadata": {},
   "outputs": [],
   "source": [
    "# Отобразим результаты в табличке\n",
    "\n",
    "f1_train_models = pd.DataFrame(columns = model_name)"
   ]
  },
  {
   "cell_type": "code",
   "execution_count": 44,
   "id": "fc690001",
   "metadata": {},
   "outputs": [],
   "source": [
    "f1_train_models.loc['f1-мера', :] = best_grid_train_score\n",
    "f1_train_models.loc['ВремяОбучения(сек.)', :] = time_training_list"
   ]
  },
  {
   "cell_type": "code",
   "execution_count": 45,
   "id": "436ceb87",
   "metadata": {
    "scrolled": true
   },
   "outputs": [
    {
     "name": "stdout",
     "output_type": "stream",
     "text": [
      "Модели на обучающей выборке\n"
     ]
    },
    {
     "data": {
      "text/html": [
       "<div>\n",
       "<style scoped>\n",
       "    .dataframe tbody tr th:only-of-type {\n",
       "        vertical-align: middle;\n",
       "    }\n",
       "\n",
       "    .dataframe tbody tr th {\n",
       "        vertical-align: top;\n",
       "    }\n",
       "\n",
       "    .dataframe thead th {\n",
       "        text-align: right;\n",
       "    }\n",
       "</style>\n",
       "<table border=\"1\" class=\"dataframe\">\n",
       "  <thead>\n",
       "    <tr style=\"text-align: right;\">\n",
       "      <th></th>\n",
       "      <th>LogisticRegression</th>\n",
       "      <th>LinearSVC</th>\n",
       "      <th>LGBMClassifier</th>\n",
       "    </tr>\n",
       "  </thead>\n",
       "  <tbody>\n",
       "    <tr>\n",
       "      <th>f1-мера</th>\n",
       "      <td>0.770973</td>\n",
       "      <td>0.773028</td>\n",
       "      <td>0.76108</td>\n",
       "    </tr>\n",
       "    <tr>\n",
       "      <th>ВремяОбучения(сек.)</th>\n",
       "      <td>19.512701</td>\n",
       "      <td>5.522361</td>\n",
       "      <td>462.182496</td>\n",
       "    </tr>\n",
       "  </tbody>\n",
       "</table>\n",
       "</div>"
      ],
      "text/plain": [
       "                    LogisticRegression LinearSVC LGBMClassifier\n",
       "f1-мера                       0.770973  0.773028        0.76108\n",
       "ВремяОбучения(сек.)          19.512701  5.522361     462.182496"
      ]
     },
     "metadata": {},
     "output_type": "display_data"
    }
   ],
   "source": [
    "print('Модели на обучающей выборке')\n",
    "display(f1_train_models)"
   ]
  },
  {
   "cell_type": "markdown",
   "id": "6fff120e",
   "metadata": {},
   "source": [
    "### На тестовой выборке"
   ]
  },
  {
   "cell_type": "code",
   "execution_count": 46,
   "id": "bc6a9c82",
   "metadata": {},
   "outputs": [
    {
     "name": "stdout",
     "output_type": "stream",
     "text": [
      "f1-мера лучшей модели (LinearSVC) на тестовой выборке: 0.7754373438057837\n"
     ]
    }
   ],
   "source": [
    "# Результаты прогноза и метрик на тестовой выборке\n",
    "\n",
    "start = time.time()\n",
    "test_pred = best_model.predict(features_test)\n",
    "end = time.time() - start\n",
    "\n",
    "best_test_score = f1_score(test_pred, target_test)\n",
    "print(f'f1-мера лучшей модели ({best_model_name}) на тестовой выборке: {best_test_score}')"
   ]
  },
  {
   "cell_type": "markdown",
   "id": "fa3bad63",
   "metadata": {},
   "source": [
    "## Отчет"
   ]
  },
  {
   "cell_type": "code",
   "execution_count": 47,
   "id": "807c3083",
   "metadata": {},
   "outputs": [],
   "source": [
    "best_model_report = pd.DataFrame(columns = ['f1-score', 'time_fit', 'time_predict'])"
   ]
  },
  {
   "cell_type": "code",
   "execution_count": 48,
   "id": "97143f1b",
   "metadata": {},
   "outputs": [
    {
     "data": {
      "text/html": [
       "<div>\n",
       "<style scoped>\n",
       "    .dataframe tbody tr th:only-of-type {\n",
       "        vertical-align: middle;\n",
       "    }\n",
       "\n",
       "    .dataframe tbody tr th {\n",
       "        vertical-align: top;\n",
       "    }\n",
       "\n",
       "    .dataframe thead th {\n",
       "        text-align: right;\n",
       "    }\n",
       "</style>\n",
       "<table border=\"1\" class=\"dataframe\">\n",
       "  <thead>\n",
       "    <tr style=\"text-align: right;\">\n",
       "      <th></th>\n",
       "      <th>f1-score</th>\n",
       "      <th>time_fit</th>\n",
       "      <th>time_predict</th>\n",
       "    </tr>\n",
       "  </thead>\n",
       "  <tbody>\n",
       "    <tr>\n",
       "      <th>LinearSVC</th>\n",
       "      <td>0.773028</td>\n",
       "      <td>5.522361</td>\n",
       "      <td>0.016652</td>\n",
       "    </tr>\n",
       "  </tbody>\n",
       "</table>\n",
       "</div>"
      ],
      "text/plain": [
       "           f1-score  time_fit time_predict\n",
       "LinearSVC  0.773028  5.522361     0.016652"
      ]
     },
     "execution_count": 48,
     "metadata": {},
     "output_type": "execute_result"
    }
   ],
   "source": [
    "best_model_report.loc[best_model_name, :] = [best_score, time_training_list[1], end]\n",
    "best_model_report"
   ]
  },
  {
   "cell_type": "markdown",
   "id": "54941742",
   "metadata": {},
   "source": [
    "### Матрица Ошибок"
   ]
  },
  {
   "cell_type": "code",
   "execution_count": 49,
   "id": "1690bcf1",
   "metadata": {},
   "outputs": [
    {
     "data": {
      "image/png": "[encoded data removed]",
      "text/plain": [
       "<Figure size 400x300 with 2 Axes>"
      ]
     },
     "metadata": {},
     "output_type": "display_data"
    }
   ],
   "source": [
    "# Confusion_matrix\n",
    "\n",
    "fig, ax = plt.subplots(figsize = (4,3))\n",
    "cm = confusion_matrix(target_test, test_pred, labels = (0,1))\n",
    "disp = ConfusionMatrixDisplay(confusion_matrix=cm, display_labels=(0,1))\n",
    "disp.plot(cmap=plt.cm.Blues, ax = ax)\n",
    "plt.suptitle(best_model_name)\n",
    "plt.xlabel('Предсказания')\n",
    "plt.ylabel('Ответы')\n",
    "plt.show()"
   ]
  },
  {
   "cell_type": "markdown",
   "id": "3dc1082a",
   "metadata": {},
   "source": [
    "## Общий вывод"
   ]
  },
  {
   "cell_type": "markdown",
   "id": "cffd4fba",
   "metadata": {},
   "source": [
    "<div style=\"border:solid gray 2px; padding: 20px\">  \n",
    "    \n",
    "<b> В данном проекте: </b>\n",
    "    \n",
    "Использовали NLP для определения токсичности комментариев.  \n",
    "    \n",
    "По заданию нужно было обучить модель классифицировать комментарии на позитивные и негативные. Целевой признак - разметка данных о токсичности.  \n",
    "    \n",
    "**1. Была проведена обработка данных:**  \n",
    "- Лемматизация и обработка регулярными выражениями.  \n",
    "- Векторизация текста.  \n",
    "    \n",
    "**2. Использовали Модели для Классификации:** (Все модели показали приемлемое по условию проекта качество f1 >0.75)  \n",
    "- LogisticRegression  \n",
    "- **LinearSVC** показала Лучшее качество прогноза (f1 = 0.775)\t\n",
    "- LGBMClassifier\n",
    "\n"
   ]
  }
 ],
 "metadata": {
  "kernelspec": {
   "display_name": "Python 3 (ipykernel)",
   "language": "python",
   "name": "python3"
  },
  "language_info": {
   "codemirror_mode": {
    "name": "ipython",
    "version": 3
   },
   "file_extension": ".py",
   "mimetype": "text/x-python",
   "name": "python",
   "nbconvert_exporter": "python",
   "pygments_lexer": "ipython3",
   "version": "3.9.15"
  },
  "toc": {
   "base_numbering": 1,
   "nav_menu": {},
   "number_sections": true,
   "sideBar": true,
   "skip_h1_title": true,
   "title_cell": "Table of Contents",
   "title_sidebar": "Contents",
   "toc_cell": false,
   "toc_position": {
    "height": "calc(100% - 180px)",
    "left": "10px",
    "top": "150px",
    "width": "203px"
   },
   "toc_section_display": true,
   "toc_window_display": true
  }
 },
 "nbformat": 4,
 "nbformat_minor": 5
}
