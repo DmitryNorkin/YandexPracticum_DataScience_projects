{
 "cells": [
  {
   "cell_type": "markdown",
   "id": "0c9ac7d5",
   "metadata": {},
   "source": [
    "\n",
    "## Описание проекта\n",
    "\n",
    "- Нужно защитить данные клиентов страховой компании «Хоть потоп».  \n",
    "- Разработать такой метод преобразования данных, чтобы по ним было сложно восстановить персональную информацию. Обосновать корректность его работы.\n",
    "- Нужно защитить данные, чтобы при преобразовании качество моделей машинного обучения не ухудшилось. Подбирать наилучшую модель не требуется."
   ]
  },
  {
   "cell_type": "markdown",
   "id": "346bdde2",
   "metadata": {},
   "source": [
    "<div style=\"border:solid gray 2px; padding: 20px\">\n",
    "\n",
    "**Инструкция по выполнению проекта**\n",
    "\n",
    "- **Загрузите и изучите данные.**  \n",
    "- **Ответьте на вопрос и обоснуйте решение**.  \n",
    "Признаки умножают на обратимую матрицу. Изменится ли качество линейной регрессии? (Её можно обучить заново.)  \n",
    "a. Изменится. Приведите примеры матриц.  \n",
    "b. Не изменится. Укажите, как связаны параметры линейной регрессии в исходной задаче и в преобразованной.  \n",
    "- **Предложите алгоритм** преобразования данных для решения задачи.  \n",
    "Обоснуйте, почему качество линейной регрессии не поменяется.  \n",
    "- **Запрограммируйте этот алгоритм**, применив матричные операции. Проверьте, что качество линейной регрессии из sklearn не отличается до и после преобразования. Примените метрику R2."
   ]
  },
  {
   "cell_type": "markdown",
   "id": "19f6e5a6",
   "metadata": {},
   "source": [
    "---"
   ]
  },
  {
   "cell_type": "markdown",
   "id": "a84f2d7c",
   "metadata": {},
   "source": [
    "## Загрузка и изучение данных"
   ]
  },
  {
   "cell_type": "code",
   "execution_count": 1,
   "id": "d8895e8c",
   "metadata": {},
   "outputs": [],
   "source": [
    "import pandas as pd\n",
    "import numpy as np\n",
    "import os\n",
    "import matplotlib.pyplot as plt\n",
    "import seaborn as sns\n",
    "from scipy import stats as st\n",
    "\n",
    "from sklearn.model_selection import train_test_split\n",
    "from sklearn.metrics import r2_score, mean_squared_error\n",
    "from sklearn.linear_model import LinearRegression\n",
    "\n",
    "RANDOM = 12345"
   ]
  },
  {
   "cell_type": "code",
   "execution_count": 2,
   "id": "289d9347",
   "metadata": {},
   "outputs": [],
   "source": [
    "pth1 = '/Users/macbookair13i5/Desktop/datasets/Datasets/insurance.csv'\n",
    "pth2 = '/datasets/insurance.csv'\n",
    "pth3 = 'https://code.s3.yandex.net/datasets/insurance.csv'\n",
    "\n",
    "if os.path.exists(pth1):\n",
    "    df = pd.read_csv(pth1)\n",
    "elif os.path.exists(pth2):\n",
    "    df = pd.read_csv(pth2)\n",
    "elif os.path.exists(pth3):\n",
    "    df = pd.read_csv(pth3)\n",
    "else:\n",
    "    display('Something is wrong')"
   ]
  },
  {
   "cell_type": "code",
   "execution_count": 3,
   "id": "c5c045d0",
   "metadata": {},
   "outputs": [
    {
     "data": {
      "text/html": [
       "<div>\n",
       "<style scoped>\n",
       "    .dataframe tbody tr th:only-of-type {\n",
       "        vertical-align: middle;\n",
       "    }\n",
       "\n",
       "    .dataframe tbody tr th {\n",
       "        vertical-align: top;\n",
       "    }\n",
       "\n",
       "    .dataframe thead th {\n",
       "        text-align: right;\n",
       "    }\n",
       "</style>\n",
       "<table border=\"1\" class=\"dataframe\">\n",
       "  <thead>\n",
       "    <tr style=\"text-align: right;\">\n",
       "      <th></th>\n",
       "      <th>Пол</th>\n",
       "      <th>Возраст</th>\n",
       "      <th>Зарплата</th>\n",
       "      <th>Члены семьи</th>\n",
       "      <th>Страховые выплаты</th>\n",
       "    </tr>\n",
       "  </thead>\n",
       "  <tbody>\n",
       "    <tr>\n",
       "      <th>0</th>\n",
       "      <td>1</td>\n",
       "      <td>41.0</td>\n",
       "      <td>49600.0</td>\n",
       "      <td>1</td>\n",
       "      <td>0</td>\n",
       "    </tr>\n",
       "    <tr>\n",
       "      <th>1</th>\n",
       "      <td>0</td>\n",
       "      <td>46.0</td>\n",
       "      <td>38000.0</td>\n",
       "      <td>1</td>\n",
       "      <td>1</td>\n",
       "    </tr>\n",
       "    <tr>\n",
       "      <th>2</th>\n",
       "      <td>0</td>\n",
       "      <td>29.0</td>\n",
       "      <td>21000.0</td>\n",
       "      <td>0</td>\n",
       "      <td>0</td>\n",
       "    </tr>\n",
       "    <tr>\n",
       "      <th>3</th>\n",
       "      <td>0</td>\n",
       "      <td>21.0</td>\n",
       "      <td>41700.0</td>\n",
       "      <td>2</td>\n",
       "      <td>0</td>\n",
       "    </tr>\n",
       "    <tr>\n",
       "      <th>4</th>\n",
       "      <td>1</td>\n",
       "      <td>28.0</td>\n",
       "      <td>26100.0</td>\n",
       "      <td>0</td>\n",
       "      <td>0</td>\n",
       "    </tr>\n",
       "  </tbody>\n",
       "</table>\n",
       "</div>"
      ],
      "text/plain": [
       "   Пол  Возраст  Зарплата  Члены семьи  Страховые выплаты\n",
       "0    1     41.0   49600.0            1                  0\n",
       "1    0     46.0   38000.0            1                  1\n",
       "2    0     29.0   21000.0            0                  0\n",
       "3    0     21.0   41700.0            2                  0\n",
       "4    1     28.0   26100.0            0                  0"
      ]
     },
     "execution_count": 3,
     "metadata": {},
     "output_type": "execute_result"
    }
   ],
   "source": [
    "df.head()"
   ]
  },
  {
   "cell_type": "code",
   "execution_count": 4,
   "id": "dea34ca7",
   "metadata": {
    "scrolled": true
   },
   "outputs": [
    {
     "data": {
      "text/plain": [
       "153"
      ]
     },
     "execution_count": 4,
     "metadata": {},
     "output_type": "execute_result"
    }
   ],
   "source": [
    "# Наличие дубликатов\n",
    "\n",
    "df.duplicated().sum()"
   ]
  },
  {
   "cell_type": "markdown",
   "id": "d861e696",
   "metadata": {},
   "source": [
    "Дубликаты присутствуют, но оставим их (по условию проекта чистые данные не особо нужны)"
   ]
  },
  {
   "cell_type": "code",
   "execution_count": 5,
   "id": "8b9f1420",
   "metadata": {},
   "outputs": [
    {
     "name": "stdout",
     "output_type": "stream",
     "text": [
      "<class 'pandas.core.frame.DataFrame'>\n",
      "RangeIndex: 5000 entries, 0 to 4999\n",
      "Data columns (total 5 columns):\n",
      " #   Column             Non-Null Count  Dtype  \n",
      "---  ------             --------------  -----  \n",
      " 0   Пол                5000 non-null   int64  \n",
      " 1   Возраст            5000 non-null   float64\n",
      " 2   Зарплата           5000 non-null   float64\n",
      " 3   Члены семьи        5000 non-null   int64  \n",
      " 4   Страховые выплаты  5000 non-null   int64  \n",
      "dtypes: float64(2), int64(3)\n",
      "memory usage: 195.4 KB\n"
     ]
    }
   ],
   "source": [
    "df.info()"
   ]
  },
  {
   "cell_type": "code",
   "execution_count": 6,
   "id": "494b1a4b",
   "metadata": {},
   "outputs": [],
   "source": [
    "# Числовые столбцы\n",
    "\n",
    "numeric = ['Возраст', 'Зарплата', 'Члены семьи']"
   ]
  },
  {
   "cell_type": "code",
   "execution_count": 7,
   "id": "297c20a6",
   "metadata": {},
   "outputs": [],
   "source": [
    "# Переведем значения зарплаты в (тыс. руб)\n",
    "\n",
    "df['Зарплата'] = df['Зарплата'].values/1000"
   ]
  },
  {
   "cell_type": "code",
   "execution_count": 8,
   "id": "9dbcaf58",
   "metadata": {
    "scrolled": false
   },
   "outputs": [
    {
     "data": {
      "image/png": "[encoded data removed]",
      "text/plain": [
       "<Figure size 300x300 with 1 Axes>"
      ]
     },
     "metadata": {},
     "output_type": "display_data"
    },
    {
     "data": {
      "image/png": "[encoded data removed]",
      "text/plain": [
       "<Figure size 300x300 with 1 Axes>"
      ]
     },
     "metadata": {},
     "output_type": "display_data"
    },
    {
     "data": {
      "image/png": "[encoded data removed]",
      "text/plain": [
       "<Figure size 300x300 with 1 Axes>"
      ]
     },
     "metadata": {},
     "output_type": "display_data"
    }
   ],
   "source": [
    "# Посмотрим распределение значений и выбросы\n",
    "\n",
    "for col in df[numeric]:\n",
    "    fig, ax = plt.subplots(figsize = (3,3))\n",
    "    sns.boxplot(data = df[col]\n",
    "               )\n",
    "    ax.set_title(f'Распределение значений в столбце: {col}')"
   ]
  },
  {
   "cell_type": "markdown",
   "id": "66eb35c5",
   "metadata": {},
   "source": [
    "В данных присутствуют выбросы (оставим без обработки)"
   ]
  },
  {
   "cell_type": "markdown",
   "id": "4827ba28",
   "metadata": {},
   "source": [
    "### Выделение признаков, Обучающей, Тестовой выборок"
   ]
  },
  {
   "cell_type": "code",
   "execution_count": 9,
   "id": "4d85df35",
   "metadata": {},
   "outputs": [],
   "source": [
    "features = df.drop(['Страховые выплаты'], axis = 1)\n",
    "target = df['Страховые выплаты']"
   ]
  },
  {
   "cell_type": "code",
   "execution_count": 10,
   "id": "806e6994",
   "metadata": {},
   "outputs": [],
   "source": [
    "features_train, features_test, target_train, target_test = train_test_split(features, target, test_size = 0.25, random_state = RANDOM)"
   ]
  },
  {
   "cell_type": "markdown",
   "id": "54a46458",
   "metadata": {},
   "source": [
    "---"
   ]
  },
  {
   "cell_type": "markdown",
   "id": "93c437e6",
   "metadata": {},
   "source": [
    "## Вопросы проекта"
   ]
  },
  {
   "cell_type": "markdown",
   "id": "f39f3fc5",
   "metadata": {},
   "source": [
    "**Ответьте на вопрос** и обоснуйте решение.  \n",
    "\n",
    "Признаки умножают на обратимую матрицу. Изменится ли качество линейной регрессии? (Её можно обучить заново.)  \n",
    "a. Изменится. Приведите примеры матриц.  \n",
    "b. Не изменится. Укажите, как связаны параметры линейной регрессии в исходной задаче и в преобразованной."
   ]
  },
  {
   "cell_type": "markdown",
   "id": "2b901ce4",
   "metadata": {},
   "source": [
    "<div style=\"border:solid gray 2px; padding: 20px\">\n",
    "    \n",
    "**X** — матрица признаков (нулевой столбец состоит из единиц)\n",
    "\n",
    "**P** — матрица, на которую умножаются признаки\n",
    "\n",
    "$a$ - предсказания\n",
    "    \n",
    "$y$ — вектор целевого признака\n",
    "\n",
    "$w$ — вектор весов линейной регрессии"
   ]
  },
  {
   "cell_type": "markdown",
   "id": "cd206757",
   "metadata": {},
   "source": [
    "### Неизмененная матрица значений"
   ]
  },
  {
   "cell_type": "markdown",
   "id": "44fdb3b0",
   "metadata": {},
   "source": [
    "Предсказания:\n",
    "<div style=\"border:solid gray 2px; padding: 20px\">\n",
    "$$a = Xw +w0$$\n",
    "    \n",
    "где \n",
    "$w_0$ - значение нулевого аргумента вектора $w$, которое предствляет собой величину сдвига модели, при подборе которого можно достигать более низкого значения среднеквадратичного отклонения ($MSE$)  \n",
    "    \n",
    "После добавления в нулевой столбец единиц Сдвиг умножится на вектор из единиц (нулевой столбец). Получим такой вектор предсказаний a:\n",
    "$$a = Xw$$"
   ]
  },
  {
   "cell_type": "markdown",
   "id": "e85cffc0",
   "metadata": {},
   "source": [
    "Задача Обучения:\n",
    "<div style=\"border:solid gray 2px; padding: 20px\">\n",
    "$$w = arg min_w MSE (Xw, y)$$"
   ]
  },
  {
   "cell_type": "markdown",
   "id": "78bf5aa7",
   "metadata": {},
   "source": [
    "Формула Обучения:\n",
    "<div style=\"border:solid gray 2px; padding: 20px\">\n",
    "$$w = (X^TX)^{-1}X^Ty$$\n",
    "    \n",
    "Подставив значения $w$ в формулу получим предсказания:\n",
    "$$a = X(X^TX)^{-1}X^Ty$$\n",
    "$$a = XX^{-1}(X^T)^{-1}X^Ty$$\n",
    "$$a = EEy$$"
   ]
  },
  {
   "cell_type": "markdown",
   "id": "63028c6a",
   "metadata": {},
   "source": [
    "### Свойства умножения матриц"
   ]
  },
  {
   "cell_type": "markdown",
   "id": "0b5b0041",
   "metadata": {},
   "source": [
    "**Свойства умножения матриц (некооторые):** \n",
    "<div style=\"border:solid gray 2px; padding: 20px\">\n",
    "$$A(BC) = (AB)C$$\n",
    "\n",
    "$$(AB)^{-1} = B^{-1}A^{-1}$$  \n",
    "\n",
    "$$(AB)^T = B^TA^T$$\n",
    "$$(A^T)^{-1} = (A^{-1})^T$$\n",
    "$$(ABC)^{-1} = C^{-1}B^{-1}A^{-1}$$\n",
    "$$AA^{-1} = E$$\n",
    "$$AE = EA = A$$\n",
    "Умножение на нулевую матрицу:\n",
    "$$AO = O$$ O - нулевая необратимая матрица\n"
   ]
  },
  {
   "cell_type": "markdown",
   "id": "687361e8",
   "metadata": {},
   "source": [
    "### Измененная матрица значений"
   ]
  },
  {
   "cell_type": "markdown",
   "id": "11f4ec22",
   "metadata": {},
   "source": [
    "**Формула Изменённой матрицы:**\n",
    "<div style=\"border:solid gray 2px; padding: 20px\">\n",
    "$$X_1 = XP$$"
   ]
  },
  {
   "cell_type": "markdown",
   "id": "f881b50e",
   "metadata": {},
   "source": [
    "**Изменённая формула обучения:** \n",
    "<div style=\"border:solid gray 2px; padding: 20px\">\n",
    "$$w_1 = (X_1^TX_1)^{-1}X_1^Ty$$ \n",
    "$$a_1 = X_1w_1$$  \n",
    "    \n",
    "Подставим значение $X_1$  \n",
    "    \n",
    "$$w_1 = ((XP)^TXP)^{-1}(XP)^Ty$$\n",
    "$$a_1 = X_1(X_1^TX_1)^{-1}X_1^Ty$$\n",
    "    \n",
    "Раскроем формулу согласно свойствам матричного умножения  \n",
    "    \n",
    "$$a_1 = XP((XP)^TXP)^{-1}XP^Ty$$\n",
    "$$a_1 = XP(XP)^{-1}(XP)^T)^{-1}(XP)^Ty$$\n",
    "$$a_1 = EEy$$"
   ]
  },
  {
   "cell_type": "markdown",
   "id": "40dbbd46",
   "metadata": {},
   "source": [
    "<div style=\"border:solid gray 2px; padding: 20px\">\n",
    "    \n",
    "Раскроем формулу $w$\n",
    "$$w = (X^T X)^{-1} X^T y$$\n",
    "\n",
    "---\n",
    "\n",
    "Раскроем формулу $w_P$    \n",
    "$$w_P = ((XP)^T XP)^{-1} (XP)^T y$$\n",
    "$$w_P = ((P^TX^T)XP)^{-1}(P^TX^T)y$$\n",
    "    \n",
    "\n",
    "Три квадратные матрицы (в -1):\n",
    "$$w_P = (P^T(X^TX)P)^{-1}(P^TX^T)y$$\n",
    "$$w_P = P^{-1}(X^TX)^{-1}(P^T)^{-1}P^TX^Ty$$\n",
    "$$w_P = P^{-1}(X^TX)^{-1}X^Ty$$\n",
    "$$w_P = P^{-1}w$$\n",
    "\n",
    "---\n",
    "Предсказания в исходных и преобразованных прихнаках\n",
    "$$a = Xw$$\n",
    "$$a_P = XPw_P$$\n",
    "$$a_P = XPP^{-1}w$$\n",
    "$$a_P = Xw$$\n",
    "$$a = a_P$$\n"
   ]
  },
  {
   "cell_type": "markdown",
   "id": "1dcc7746",
   "metadata": {},
   "source": [
    "Задача обучения:\n",
    "\n",
    "$$\\arg\\min_w MSE(XPw_p, y) = $$\n",
    "$$ = \\arg\\min_w MSE(XPP^{-1}w, y) = $$\n",
    "$$ = \\arg\\min_w MSE(Xw, y)$$\n"
   ]
  },
  {
   "cell_type": "markdown",
   "id": "aefebf3d",
   "metadata": {},
   "source": [
    "### Выводы"
   ]
  },
  {
   "cell_type": "markdown",
   "id": "fd88c4b8",
   "metadata": {},
   "source": [
    "**Формулы предсказаний измененной и неизмененной матриц**\n",
    "<div style=\"border:solid gray 2px; padding: 20px\">\n",
    "\n",
    "    \n",
    "$$a = Xw$$\n",
    "$$a_P = Xw$$\n",
    "$$a = a_P$$"
   ]
  },
  {
   "cell_type": "markdown",
   "id": "042bb291",
   "metadata": {},
   "source": [
    "**Для защиты персональных данных клиентов можно воспользоваться умножением матрицы значений на рандомную матрицу!Можно сделать вывод, что результат предсказания не изменится не смотря на измениения значений признаков**  \n",
    "  \n",
    "**Не изменится и качество Линейной регрессии (При умножении на ненулевую матрицу)**\n"
   ]
  },
  {
   "cell_type": "markdown",
   "id": "b06f56a5",
   "metadata": {},
   "source": [
    "**Качество Линейной Регрессии изменится если исходную матрицу со значениями данных клиентов умножить на нулевую (необратимую) матрицу**"
   ]
  },
  {
   "cell_type": "markdown",
   "id": "83945ecb",
   "metadata": {},
   "source": [
    "---"
   ]
  },
  {
   "cell_type": "markdown",
   "id": "4d0b7c36",
   "metadata": {},
   "source": [
    "## Линейная Регрессия на неизменённых признаках (sklearn)"
   ]
  },
  {
   "cell_type": "code",
   "execution_count": 11,
   "id": "62094680",
   "metadata": {},
   "outputs": [],
   "source": [
    "#  Сначала воспользуемся моделью из sklearn\n",
    "\n",
    "model_before = LinearRegression()\n",
    "model_before.fit(features_train, target_train)\n",
    "predictions_before = model_before.predict(features_test)"
   ]
  },
  {
   "cell_type": "code",
   "execution_count": 12,
   "id": "03e198bb",
   "metadata": {},
   "outputs": [],
   "source": [
    "metric_values = []"
   ]
  },
  {
   "cell_type": "code",
   "execution_count": 13,
   "id": "ac312112",
   "metadata": {},
   "outputs": [
    {
     "name": "stdout",
     "output_type": "stream",
     "text": [
      "Метрики на исходных признаках\n",
      "R2: 0.4352275712702667\n",
      "MSE: 0.11660517472525564\n"
     ]
    }
   ],
   "source": [
    "# Посмотрим на метрики модели на исходных признаках (sklearn)\n",
    "\n",
    "R2_before = r2_score(target_test, predictions_before)\n",
    "MSE_before = mean_squared_error(target_test, predictions_before)\n",
    "print('Метрики на исходных признаках')\n",
    "print(f'R2: {R2_before}')\n",
    "print(f'MSE: {MSE_before}')\n",
    "values = [R2_before, MSE_before]\n",
    "metric_values.append(values)"
   ]
  },
  {
   "cell_type": "markdown",
   "id": "dc875068",
   "metadata": {},
   "source": [
    "---"
   ]
  },
  {
   "cell_type": "markdown",
   "id": "ec70fc89",
   "metadata": {},
   "source": [
    "## Класс Линейной Регрессии"
   ]
  },
  {
   "cell_type": "markdown",
   "id": "be22ec28",
   "metadata": {},
   "source": [
    "### Неизменённые Признаки"
   ]
  },
  {
   "cell_type": "markdown",
   "id": "afb9854a",
   "metadata": {},
   "source": [
    "**Предсказания вычислим по формуле:**\n",
    "$$a = Xw +w0$$\n",
    "$$a = X(X^TX)^{-1}X^Ty + w0$$"
   ]
  },
  {
   "cell_type": "code",
   "execution_count": 14,
   "id": "8f5f52e6",
   "metadata": {},
   "outputs": [],
   "source": [
    "# Создадим класс Линейной Регрессии\n",
    "\n",
    "class LinRegression:\n",
    "    def fit(self, features, target):\n",
    "        X = np.concatenate((np.ones((features.shape[0], 1)), features), axis=1)\n",
    "        y = target\n",
    "        w = np.linalg.inv(X.T @ X) @ X.T @ y\n",
    "        self.w = w[1:]\n",
    "        self.w_0 = w[0]\n",
    "        \n",
    "    def predict(self, new_features):\n",
    "        return new_features @ self.w + self.w_0\n",
    "        "
   ]
  },
  {
   "cell_type": "code",
   "execution_count": 15,
   "id": "f4e7a116",
   "metadata": {},
   "outputs": [],
   "source": [
    "model = LinRegression()"
   ]
  },
  {
   "cell_type": "code",
   "execution_count": 16,
   "id": "27073efd",
   "metadata": {},
   "outputs": [],
   "source": [
    "model.fit(features_train, target_train)\n",
    "predictions_after = model.predict(features_test)"
   ]
  },
  {
   "cell_type": "code",
   "execution_count": 17,
   "id": "5c691dfb",
   "metadata": {},
   "outputs": [
    {
     "name": "stdout",
     "output_type": "stream",
     "text": [
      "R2 класса Л.Регрессии: 0.43522757127026657\n",
      "MSE класса Л.Регрессии: 0.11660517472525567\n"
     ]
    }
   ],
   "source": [
    "R2_class = r2_score(target_test, predictions_after)\n",
    "MSE_class = mean_squared_error(target_test, predictions_after)\n",
    "values = [R2_class, MSE_class]\n",
    "metric_values.append(values)\n",
    "print(f'R2 класса Л.Регрессии: {R2_class}')\n",
    "print(f'MSE класса Л.Регрессии: {MSE_class}')"
   ]
  },
  {
   "cell_type": "markdown",
   "id": "e1d2991d",
   "metadata": {},
   "source": [
    "### Изменённые признаки"
   ]
  },
  {
   "cell_type": "markdown",
   "id": "ad5d7fbf",
   "metadata": {},
   "source": [
    "**Необходимо**\n",
    "\n",
    "- Сгенерировать обратимую квадратную матрицу, размерностью соответствующую количеству столбцов признаков  \n",
    "- Умножить матрицу исходных признаков на сгенерированную матрицу.  \n",
    "\n",
    "- Посчитать качество модели на полученной матрице и сравнить с качеством модели на матрице исходных данных."
   ]
  },
  {
   "cell_type": "code",
   "execution_count": 18,
   "id": "c7bfc7f5",
   "metadata": {},
   "outputs": [],
   "source": [
    "# Создадим случайную квадратную матрицу\n",
    "\n",
    "P = np.random.normal(size = (features_train.shape[1],features_train.shape[1]))"
   ]
  },
  {
   "cell_type": "code",
   "execution_count": 19,
   "id": "88896a8e",
   "metadata": {
    "scrolled": true
   },
   "outputs": [
    {
     "name": "stdout",
     "output_type": "stream",
     "text": [
      "[[-0.10213921  0.0166804   0.5571037   0.26410603]\n",
      " [-0.18738166 -0.47441747 -0.17103305  0.37025258]\n",
      " [ 0.08003576 -0.3990928  -0.02047582  0.04052833]\n",
      " [ 0.11456287  0.00091072  0.06260915  0.41004133]]\n"
     ]
    }
   ],
   "source": [
    "print(np.linalg.inv(P))"
   ]
  },
  {
   "cell_type": "code",
   "execution_count": 20,
   "id": "7fff528c",
   "metadata": {},
   "outputs": [],
   "source": [
    "# Умножим матрицы значений в обучающей и тестовой выборках на одну случайную обратимую квадратную матрицу\n",
    "\n",
    "features_train_after = features_train.values @ P\n",
    "features_test_after = features_test.values @ P"
   ]
  },
  {
   "cell_type": "code",
   "execution_count": 21,
   "id": "1e4e2058",
   "metadata": {},
   "outputs": [],
   "source": [
    "# Обучим модель класса linRegression на измененных признаках\n",
    "\n",
    "model.fit(features_train_after, target_train)\n",
    "predictions_after = model.predict(features_test_after)"
   ]
  },
  {
   "cell_type": "code",
   "execution_count": 22,
   "id": "5277586e",
   "metadata": {},
   "outputs": [
    {
     "name": "stdout",
     "output_type": "stream",
     "text": [
      "R2 После преобразования признаков: 0.435227571270267\n",
      "MSE После преобразования признаков: 0.11660517472525557\n"
     ]
    }
   ],
   "source": [
    "# Посмотрим на значения метрик модели и сравним с значениями до преобразования\n",
    "\n",
    "R2_after = r2_score(target_test, predictions_after)\n",
    "MSE_after = mean_squared_error(target_test, predictions_after)\n",
    "print(f'R2 После преобразования признаков: {R2_after}')\n",
    "print(f'MSE После преобразования признаков: {MSE_after}')\n",
    "values = [R2_after, MSE_after]\n",
    "metric_values.append(values)"
   ]
  },
  {
   "cell_type": "code",
   "execution_count": 23,
   "id": "cc66d5a3",
   "metadata": {},
   "outputs": [
    {
     "data": {
      "text/html": [
       "<div>\n",
       "<style scoped>\n",
       "    .dataframe tbody tr th:only-of-type {\n",
       "        vertical-align: middle;\n",
       "    }\n",
       "\n",
       "    .dataframe tbody tr th {\n",
       "        vertical-align: top;\n",
       "    }\n",
       "\n",
       "    .dataframe thead th {\n",
       "        text-align: right;\n",
       "    }\n",
       "</style>\n",
       "<table border=\"1\" class=\"dataframe\">\n",
       "  <thead>\n",
       "    <tr style=\"text-align: right;\">\n",
       "      <th></th>\n",
       "      <th>Linear_sklearn</th>\n",
       "      <th>classLinRegression_before</th>\n",
       "      <th>classLinRegression_after</th>\n",
       "    </tr>\n",
       "  </thead>\n",
       "  <tbody>\n",
       "    <tr>\n",
       "      <th>R2</th>\n",
       "      <td>0.435228</td>\n",
       "      <td>0.435228</td>\n",
       "      <td>0.435228</td>\n",
       "    </tr>\n",
       "    <tr>\n",
       "      <th>MSE</th>\n",
       "      <td>0.116605</td>\n",
       "      <td>0.116605</td>\n",
       "      <td>0.116605</td>\n",
       "    </tr>\n",
       "  </tbody>\n",
       "</table>\n",
       "</div>"
      ],
      "text/plain": [
       "     Linear_sklearn  classLinRegression_before  classLinRegression_after\n",
       "R2         0.435228                   0.435228                  0.435228\n",
       "MSE        0.116605                   0.116605                  0.116605"
      ]
     },
     "execution_count": 23,
     "metadata": {},
     "output_type": "execute_result"
    }
   ],
   "source": [
    "# Посмотрим на все показатели метрик\n",
    "\n",
    "report = pd.DataFrame(np.array(metric_values).T, index = ['R2', 'MSE'], columns = ['Linear_sklearn', 'classLinRegression_before', 'classLinRegression_after'])\n",
    "report"
   ]
  },
  {
   "cell_type": "markdown",
   "id": "4fcd55c8",
   "metadata": {},
   "source": [
    "Показатели метрик никак не поменялись при преобразовании признаков, поэтому Умножение матрицы значений персональных данных клиентов на случайную обратимую матрицу является способом защитить данные от использования третьими лицами!"
   ]
  },
  {
   "cell_type": "markdown",
   "id": "ffffda4b",
   "metadata": {},
   "source": [
    "---"
   ]
  },
  {
   "cell_type": "markdown",
   "id": "e7279c52",
   "metadata": {},
   "source": [
    "## Общий вывод по проекту"
   ]
  },
  {
   "cell_type": "markdown",
   "id": "dcdeaae5",
   "metadata": {},
   "source": [
    "<div style=\"border:solid gray 2px; padding: 20px\">\n",
    "\n",
    "**В этом проекте:**  \n",
    "\n",
    "- Для защиты персональных данных клиентов страховой компании с помощью преобразования значений (умножением на случайную матрицу) проверили изменится ли качество линейной регрессии?\n",
    "Выяснили, что результат предсказания не изменится не смотря на измениения значений признаков\n",
    "Не изменится и качество Линейной регрессии (При умножении на ненулевую матрицу)\n",
    "Качество Линейной Регрессии изменится в случае, если исходную матрицу со значениями данных клиентов умножить на нулевую (необратимую) матрицу.\n",
    "\n",
    "- Предложили алгоритм преобразования данных для решения этой задачи.  \n",
    "При проверке качества модели показатели метрик никак не поменялись при преобразовании признаков, поэтому Умножение матрицы значений персональных данных клиентов на случайную обратимую матрицу является способом защитить данные от использования третьими лицами!"
   ]
  }
 ],
 "metadata": {
  "ExecuteTimeLog": [
   {
    "duration": 3915,
    "start_time": "2023-04-09T05:03:03.072Z"
   },
   {
    "duration": 49,
    "start_time": "2023-04-09T05:03:06.994Z"
   },
   {
    "duration": 17,
    "start_time": "2023-04-09T05:03:07.045Z"
   },
   {
    "duration": 75,
    "start_time": "2023-04-09T05:03:07.064Z"
   },
   {
    "duration": 40,
    "start_time": "2023-04-09T05:03:07.141Z"
   },
   {
    "duration": 56,
    "start_time": "2023-04-09T05:03:07.184Z"
   },
   {
    "duration": 6,
    "start_time": "2023-04-09T05:03:07.243Z"
   },
   {
    "duration": 337,
    "start_time": "2023-04-09T05:03:07.251Z"
   },
   {
    "duration": 14,
    "start_time": "2023-04-09T05:03:07.589Z"
   },
   {
    "duration": 37,
    "start_time": "2023-04-09T05:03:07.610Z"
   },
   {
    "duration": 15,
    "start_time": "2023-04-09T05:03:07.649Z"
   },
   {
    "duration": 15,
    "start_time": "2023-04-09T05:03:07.666Z"
   },
   {
    "duration": 43,
    "start_time": "2023-04-09T05:03:07.683Z"
   },
   {
    "duration": 8,
    "start_time": "2023-04-09T05:03:07.728Z"
   },
   {
    "duration": 9,
    "start_time": "2023-04-09T05:03:07.738Z"
   },
   {
    "duration": 38,
    "start_time": "2023-04-09T05:03:07.749Z"
   },
   {
    "duration": 56,
    "start_time": "2023-04-09T05:03:07.789Z"
   },
   {
    "duration": 94,
    "start_time": "2023-04-09T05:03:07.847Z"
   },
   {
    "duration": 4,
    "start_time": "2023-04-09T05:03:07.943Z"
   },
   {
    "duration": 11,
    "start_time": "2023-04-09T05:03:07.949Z"
   },
   {
    "duration": 166,
    "start_time": "2023-04-09T05:03:07.962Z"
   },
   {
    "duration": 15,
    "start_time": "2023-04-09T05:03:08.130Z"
   }
  ],
  "kernelspec": {
   "display_name": "Python 3 (ipykernel)",
   "language": "python",
   "name": "python3"
  },
  "language_info": {
   "codemirror_mode": {
    "name": "ipython",
    "version": 3
   },
   "file_extension": ".py",
   "mimetype": "text/x-python",
   "name": "python",
   "nbconvert_exporter": "python",
   "pygments_lexer": "ipython3",
   "version": "3.9.15"
  },
  "toc": {
   "base_numbering": 1,
   "nav_menu": {},
   "number_sections": true,
   "sideBar": true,
   "skip_h1_title": true,
   "title_cell": "",
   "title_sidebar": "Contents",
   "toc_cell": false,
   "toc_position": {
    "height": "calc(100% - 180px)",
    "left": "10px",
    "top": "150px",
    "width": "274px"
   },
   "toc_section_display": true,
   "toc_window_display": true
  }
 },
 "nbformat": 4,
 "nbformat_minor": 5
}
