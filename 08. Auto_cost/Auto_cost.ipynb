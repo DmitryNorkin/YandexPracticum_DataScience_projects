{
 "cells": [
  {
   "cell_type": "markdown",
   "id": "82e08817",
   "metadata": {},
   "source": [
    "\n",
    "Привет, меня зовут Люман Аблаев. Сегодня я проверю твой проект.\n",
    "<br> Дальнейшее общение будет происходить на \"ты\" если это не вызывает никаких проблем.\n",
    "<br> Желательно реагировать на красные комментарии ('исправил', 'не понятно как исправить ошибку', ...)\n",
    "<br> Пожалуйста, не удаляй комментарии ревьюера, так как они повышают качество повторного ревью.\n",
    "\n",
    "Комментарии будут в <font color='green'>зеленой</font>, <font color='blue'>синей</font> или <font color='red'>красной</font> рамках:\n",
    "\n",
    "\n",
    "<div class=\"alert alert-block alert-success\">\n",
    "<b>Успех:</b> Если все сделано отлично\n",
    "</div>\n",
    "\n",
    "<div class=\"alert alert-block alert-warning\">\n",
    "<b>Совет: </b> Если можно немного улучшить\n",
    "</div>\n",
    "\n",
    "<div class=\"alert alert-block alert-danger\">\n",
    "<b>Ошибка:</b> Если требуются исправления. Работа не может быть принята с красными комментариями.\n",
    "</div>\n",
    "\n",
    "-------------------\n",
    "\n",
    "Будет очень хорошо, если ты будешь помечать свои действия следующим образом:\n",
    "<div class=\"alert alert-block alert-info\">\n",
    "<b>Комментарий студента:</b> ...\n",
    "</div>\n",
    "\n",
    "<div class=\"alert alert-block alert-info\">\n",
    "<b>Изменения:</b> Были внесены следующие изменения ...\n",
    "</div>\n",
    "\n",
    "\n",
    "\n",
    "\n",
    "\n",
    "\n",
    "\n",
    "<font color='orange' style='font-size:24px; font-weight:bold'>Общее впечатление</font>\n",
    "* Спасибо за очень качественную работу - видно, что приложено много усилий,\n",
    "- Я оставил некоторые советы, надеюсь они будут полезными и интересными\n",
    "- Есть некоторые недочеты, которые нужно поправить, но у тебя это не должно занять много времени)\n",
    "- Жду обновленную работу\n"
   ]
  },
  {
   "cell_type": "markdown",
   "id": "20e77614",
   "metadata": {},
   "source": [
    "<font color='orange' style='font-size:24px; font-weight:bold'>Общее впечатление[2]</font>\n",
    "* Спасибо за оперативность\n",
    "- Приятно видеть фидбек \n",
    "- Критические недочеты исправлены - работа  корректна\n",
    "- Я оставил важный комментарий по поводу времени обучения - посмотри пожалуйста\n",
    "- Рад был быть полезен. Удачи в дальнейшем обучении!\n"
   ]
  },
  {
   "cell_type": "markdown",
   "id": "cecef245",
   "metadata": {},
   "source": [
    "# Определение стоимости автомобилей"
   ]
  },
  {
   "cell_type": "markdown",
   "id": "445c585e",
   "metadata": {},
   "source": [
    "<div class=\"alert alert-info\">\n",
    "    <b>Комментарий студента:</b>\n",
    "    Привет! Меня зовут Дмитрий Норкин! Ко мне на ты! "
   ]
  },
  {
   "cell_type": "markdown",
   "id": "8617c8a9",
   "metadata": {},
   "source": [
    "<div class=\"alert alert-block alert-success\">\n",
    "<b>Успех:</b> Принял, пойдем смотреть работы"
   ]
  },
  {
   "cell_type": "markdown",
   "id": "dec934f5",
   "metadata": {},
   "source": [
    "<div style=\"border:solid gray 2px; padding: 20px\">  \n",
    "\n",
    "В данном проекте искали модели машинного обучения, которые будут предсказывать рыночную стоимость автомобилей!  \n",
    "Критерии, которые важны заказчику:  \n",
    "\n",
    "- Качество предсказания (Для оценки качества моделей использовали метрику RMSE.)\n",
    "- Время обучения модели  \n",
    "- Время предсказания модели \n"
   ]
  },
  {
   "cell_type": "markdown",
   "id": "f09c0c7a",
   "metadata": {},
   "source": [
    "## Предобработка данных"
   ]
  },
  {
   "cell_type": "markdown",
   "id": "5c352754",
   "metadata": {},
   "source": [
    "### Импорт библиотек"
   ]
  },
  {
   "cell_type": "code",
   "execution_count": 1,
   "id": "28e474f5",
   "metadata": {},
   "outputs": [],
   "source": [
    "import pandas as pd\n",
    "import numpy as np\n",
    "import os\n",
    "import time\n",
    "import matplotlib.pyplot as plt\n",
    "import seaborn as sns\n",
    "from scipy import stats as st\n",
    "import phik\n",
    "\n",
    "from sklearn.metrics import mean_absolute_error, make_scorer, mean_squared_error\n",
    "\n",
    "from sklearn.model_selection import train_test_split\n",
    "from sklearn.model_selection import GridSearchCV, RandomizedSearchCV\n",
    "from sklearn.preprocessing import StandardScaler, MinMaxScaler, OrdinalEncoder\n",
    "from category_encoders import TargetEncoder\n",
    "\n",
    "from sklearn.dummy import DummyRegressor\n",
    "from sklearn.ensemble import RandomForestRegressor\n",
    "from sklearn.linear_model import LinearRegression, ElasticNetCV\n",
    "\n",
    "from catboost import CatBoostRegressor\n",
    "from lightgbm import LGBMRegressor\n",
    "\n",
    "RANDOM = 12345"
   ]
  },
  {
   "cell_type": "markdown",
   "id": "1d9a200e",
   "metadata": {},
   "source": [
    "\n",
    "<div class=\"alert alert-block alert-success\">\n",
    "<b>Успех:</b> Импорты  на месте\n",
    "</div>"
   ]
  },
  {
   "cell_type": "markdown",
   "id": "a40d41ed",
   "metadata": {},
   "source": [
    "### Загрузка и изучение данных"
   ]
  },
  {
   "cell_type": "code",
   "execution_count": 2,
   "id": "4bd161a5",
   "metadata": {},
   "outputs": [],
   "source": [
    "pth1 = '/Users/macbookair13i5/Desktop/datasets/Datasets/autos.csv'\n",
    "pth2 = '/datasets/autos.csv'\n",
    "pth3 = 'https://code.s3.yandex.net/datasets/autos.csv'\n",
    "\n",
    "if os.path.exists(pth1):\n",
    "    df = pd.read_csv(pth1)\n",
    "elif os.path.exists(pth2):\n",
    "    df = pd.read_csv(pth2)\n",
    "elif os.path.exists(pth3):\n",
    "    df = pd.read_csv(pth3)\n",
    "else:\n",
    "    display('Something is wrong')"
   ]
  },
  {
   "cell_type": "code",
   "execution_count": 3,
   "id": "0c376301",
   "metadata": {},
   "outputs": [
    {
     "name": "stdout",
     "output_type": "stream",
     "text": [
      "<class 'pandas.core.frame.DataFrame'>\n",
      "RangeIndex: 354369 entries, 0 to 354368\n",
      "Data columns (total 16 columns):\n",
      " #   Column             Non-Null Count   Dtype \n",
      "---  ------             --------------   ----- \n",
      " 0   DateCrawled        354369 non-null  object\n",
      " 1   Price              354369 non-null  int64 \n",
      " 2   VehicleType        316879 non-null  object\n",
      " 3   RegistrationYear   354369 non-null  int64 \n",
      " 4   Gearbox            334536 non-null  object\n",
      " 5   Power              354369 non-null  int64 \n",
      " 6   Model              334664 non-null  object\n",
      " 7   Kilometer          354369 non-null  int64 \n",
      " 8   RegistrationMonth  354369 non-null  int64 \n",
      " 9   FuelType           321474 non-null  object\n",
      " 10  Brand              354369 non-null  object\n",
      " 11  Repaired           283215 non-null  object\n",
      " 12  DateCreated        354369 non-null  object\n",
      " 13  NumberOfPictures   354369 non-null  int64 \n",
      " 14  PostalCode         354369 non-null  int64 \n",
      " 15  LastSeen           354369 non-null  object\n",
      "dtypes: int64(7), object(9)\n",
      "memory usage: 43.3+ MB\n"
     ]
    }
   ],
   "source": [
    "df.info()"
   ]
  },
  {
   "cell_type": "code",
   "execution_count": 4,
   "id": "28c9a0ec",
   "metadata": {},
   "outputs": [],
   "source": [
    "init_size = df.shape[0]"
   ]
  },
  {
   "cell_type": "markdown",
   "id": "ba658770",
   "metadata": {},
   "source": [
    "**Описание данных**\n",
    "\n",
    "**Признаки**\n",
    "\n",
    "|Признаки| Описание данных|\n",
    "|:|:|\n",
    "|**DateCrawled**| дата скачивания анкеты из базы|\n",
    "|**VehicleType**| тип автомобильного кузова|\n",
    "|**RegistrationYear**| год регистрации автомобиля|\n",
    "|**Gearbox**| тип коробки передач|\n",
    "|**Power**| мощность (л. с.)|\n",
    "|**Model**| модель автомобиля|\n",
    "|**Kilometer**| пробег (км)|\n",
    "|**RegistrationMonth**| месяц регистрации автомобиля|\n",
    "|**FuelType**| тип топлива|\n",
    "|**Brand**| марка автомобиля|\n",
    "|**NotRepaired**| была машина в ремонте или нет|\n",
    "|**DateCreated**| дата создания анкеты|\n",
    "|**NumberOfPictures**| количество фотографий автомобиля|\n",
    "|**PostalCode**| почтовый индекс владельца анкеты (пользователя)|\n",
    "|**LastSeen**| дата последней активности пользователя|\n",
    "\n",
    "---\n",
    "\n",
    "**Целевой признак**\n",
    "\n",
    "|Целевой признак|Описание данных|  \n",
    "|:|:|\n",
    "|**Price**| цена (евро)|"
   ]
  },
  {
   "cell_type": "markdown",
   "id": "c210be31",
   "metadata": {},
   "source": [
    "### Обработка Дубликатов, Пропусков и Выбросов"
   ]
  },
  {
   "cell_type": "markdown",
   "id": "32284ccb",
   "metadata": {},
   "source": [
    "#### Дубликаты"
   ]
  },
  {
   "cell_type": "code",
   "execution_count": 5,
   "id": "f9f7fe46",
   "metadata": {},
   "outputs": [
    {
     "data": {
      "text/plain": [
       "4"
      ]
     },
     "execution_count": 5,
     "metadata": {},
     "output_type": "execute_result"
    }
   ],
   "source": [
    "# Изучим явные дубликаты\n",
    "\n",
    "df.duplicated().sum()"
   ]
  },
  {
   "cell_type": "code",
   "execution_count": 6,
   "id": "6df318d4",
   "metadata": {},
   "outputs": [],
   "source": [
    "# Удалим дубликаты\n",
    "\n",
    "df = df.drop_duplicates()"
   ]
  },
  {
   "cell_type": "markdown",
   "id": "6833de04",
   "metadata": {},
   "source": [
    "**Удалим ненужные признаки**"
   ]
  },
  {
   "cell_type": "code",
   "execution_count": null,
   "id": "cf25d7ba",
   "metadata": {},
   "outputs": [],
   "source": []
  },
  {
   "cell_type": "code",
   "execution_count": 7,
   "id": "d9c9aeb9",
   "metadata": {},
   "outputs": [],
   "source": [
    "# СТолбцы ['DateCrawled', 'DateCreated', 'NumberOfPictures', 'PostalCode', 'LastSeen'] не несут в себе нужной информации\n",
    "\n",
    "df = df.drop(['DateCreated', 'NumberOfPictures', 'PostalCode', 'LastSeen'], axis = 1)"
   ]
  },
  {
   "cell_type": "markdown",
   "id": "d699965a",
   "metadata": {},
   "source": [
    "<div class=\"alert alert-block alert-success\">\n",
    "<b>Успех:</b> Удалить неинформативные признаки - верное решение.\n",
    "</div>"
   ]
  },
  {
   "cell_type": "code",
   "execution_count": 8,
   "id": "adb04912",
   "metadata": {
    "scrolled": false
   },
   "outputs": [
    {
     "name": "stdout",
     "output_type": "stream",
     "text": [
      "\n",
      "Пропуски в категориальных столбцах:\n",
      "\n",
      "Пропуски в столбце DateCrawled: 0\n",
      "Доля пропусков от общей выборки: 0 %\n",
      "\n",
      "\n",
      "Пропуски в столбце VehicleType: 37490\n",
      "Доля пропусков от общей выборки: 11 %\n",
      "\n",
      "\n",
      "Пропуски в столбце Gearbox: 19833\n",
      "Доля пропусков от общей выборки: 6 %\n",
      "\n",
      "\n",
      "Пропуски в столбце Model: 19705\n",
      "Доля пропусков от общей выборки: 6 %\n",
      "\n",
      "\n",
      "\n",
      "Пропуски в столбце FuelType: 32895\n",
      "Доля пропусков от общей выборки: 9 %\n",
      "\n",
      "Пропуски в столбце Brand: 0\n",
      "Доля пропусков от общей выборки: 0 %\n",
      "\n",
      "Пропуски в столбце Repaired: 71154\n",
      "Доля пропусков от общей выборки: 20 %\n",
      "\n"
     ]
    }
   ],
   "source": [
    "# Изучим пропуски в категориальных признаках\n",
    "\n",
    "cat_features = []\n",
    "print()\n",
    "print('Пропуски в категориальных столбцах:')\n",
    "print()\n",
    "\n",
    "for col in df.columns:\n",
    "    if df[col].dtype == 'object':\n",
    "        \n",
    "        # Выделим категориальные принципы:\n",
    "        cat_features.append(col)\n",
    "        \n",
    "        # Пропуски\n",
    "        print(f'Пропуски в столбце {col}: {df[col].isna().sum()}')\n",
    "        print(f'Доля пропусков от общей выборки: {round(df[col].isna().sum() / len(df[col]) * 100)} %')\n",
    "    print()"
   ]
  },
  {
   "cell_type": "markdown",
   "id": "dc147695",
   "metadata": {},
   "source": [
    "#### Пропуски"
   ]
  },
  {
   "cell_type": "code",
   "execution_count": 9,
   "id": "d258ad07",
   "metadata": {},
   "outputs": [],
   "source": [
    "# Обратботаем пропуски в категориалных признаках\n",
    "\n",
    "# Отсутствие данных о ремонте заменим на \"no\"\n",
    "df['Repaired'] = df['Repaired'].fillna('no')\n",
    "\n",
    "# Остальные кат. пропуски заменим на \"0\"\n",
    "for col in df[cat_features].columns:\n",
    "    df[col] = df[col].fillna('0')\n"
   ]
  },
  {
   "cell_type": "markdown",
   "id": "b777ae70",
   "metadata": {},
   "source": [
    "<div class=\"alert alert-block alert-success\">\n",
    "<b>Успех:</b> Пропуски обработаны хорошим образом\n",
    "</div>\n",
    "\n",
    "\n",
    "<div class=\"alert alert-block alert-warning\">\n",
    "<b>Совет:</b> У fuel_type есть категории, которые означают одно и тоже - их можно объединить, либо подумать может они действительно означают, что-то разное\n",
    "</div>"
   ]
  },
  {
   "cell_type": "markdown",
   "id": "7d94e6ee",
   "metadata": {},
   "source": [
    "<div class=\"alert alert-block alert-info\">\n",
    "<b>Изменения V1:</b>  \n",
    "Объединим значения в 'FuelType',обозначающие одно и то же"
   ]
  },
  {
   "cell_type": "markdown",
   "id": "342018cf",
   "metadata": {},
   "source": [
    "<div class=\"alert alert-block alert-success\">\n",
    "    \n",
    "<b>Успех[2]:</b> А может пропуски это вообще дизель?\n",
    "</div>"
   ]
  },
  {
   "cell_type": "code",
   "execution_count": 10,
   "id": "d07f3cf1",
   "metadata": {},
   "outputs": [
    {
     "name": "stderr",
     "output_type": "stream",
     "text": [
      "/var/folders/8l/pbs9j79s2x537_ttxmbz8y5r0000gn/T/ipykernel_46624/2782343898.py:1: SettingWithCopyWarning: \n",
      "A value is trying to be set on a copy of a slice from a DataFrame\n",
      "\n",
      "See the caveats in the documentation: https://pandas.pydata.org/pandas-docs/stable/user_guide/indexing.html#returning-a-view-versus-a-copy\n",
      "  df.loc[:,'FuelType'][df.loc[:, 'FuelType'] == 'gasoline'] = 'petrol'\n",
      "/var/folders/8l/pbs9j79s2x537_ttxmbz8y5r0000gn/T/ipykernel_46624/2782343898.py:2: SettingWithCopyWarning: \n",
      "A value is trying to be set on a copy of a slice from a DataFrame\n",
      "\n",
      "See the caveats in the documentation: https://pandas.pydata.org/pandas-docs/stable/user_guide/indexing.html#returning-a-view-versus-a-copy\n",
      "  df.loc[:,'FuelType'][df.loc[:, 'FuelType'] == 'cng'] = 'lpg'\n",
      "/var/folders/8l/pbs9j79s2x537_ttxmbz8y5r0000gn/T/ipykernel_46624/2782343898.py:3: SettingWithCopyWarning: \n",
      "A value is trying to be set on a copy of a slice from a DataFrame\n",
      "\n",
      "See the caveats in the documentation: https://pandas.pydata.org/pandas-docs/stable/user_guide/indexing.html#returning-a-view-versus-a-copy\n",
      "  df.loc[:,'FuelType'][df.loc[:, 'FuelType'] == '0'] = 'other'\n"
     ]
    }
   ],
   "source": [
    "df.loc[:,'FuelType'][df.loc[:, 'FuelType'] == 'gasoline'] = 'petrol'\n",
    "df.loc[:,'FuelType'][df.loc[:, 'FuelType'] == 'cng'] = 'lpg'\n",
    "df.loc[:,'FuelType'][df.loc[:, 'FuelType'] == '0'] = 'other'"
   ]
  },
  {
   "cell_type": "code",
   "execution_count": 11,
   "id": "97bff34d",
   "metadata": {},
   "outputs": [
    {
     "data": {
      "text/plain": [
       "petrol      315068\n",
       "other        33099\n",
       "lpg           5875\n",
       "hybrid         233\n",
       "electric        90\n",
       "Name: FuelType, dtype: int64"
      ]
     },
     "execution_count": 11,
     "metadata": {},
     "output_type": "execute_result"
    }
   ],
   "source": [
    "df['FuelType'].value_counts()"
   ]
  },
  {
   "cell_type": "code",
   "execution_count": 12,
   "id": "8bcdce14",
   "metadata": {},
   "outputs": [
    {
     "name": "stdout",
     "output_type": "stream",
     "text": [
      "\n",
      "Пропуски в числовых столбцах:\n",
      "\n",
      "Пропуски в столбце Price: 0\n",
      "Доля пропусков от общей выборки: 0 %\n",
      "\n",
      "Пропуски в столбце RegistrationYear: 0\n",
      "Доля пропусков от общей выборки: 0 %\n",
      "\n",
      "Пропуски в столбце Power: 0\n",
      "Доля пропусков от общей выборки: 0 %\n",
      "\n",
      "Пропуски в столбце Kilometer: 0\n",
      "Доля пропусков от общей выборки: 0 %\n",
      "\n",
      "Пропуски в столбце RegistrationMonth: 0\n",
      "Доля пропусков от общей выборки: 0 %\n",
      "\n"
     ]
    }
   ],
   "source": [
    "# Изучим пропуски в количественных признаках\n",
    "\n",
    "numeric = []\n",
    "print()\n",
    "print('Пропуски в числовых столбцах:')\n",
    "print()\n",
    "\n",
    "for col in df.columns:\n",
    "    if df[col].dtype == 'int64':\n",
    "        numeric.append(col)\n",
    "        print(f'Пропуски в столбце {col}: {df[col].isna().sum()}')\n",
    "        print(f'Доля пропусков от общей выборки: {round(df[col].isna().sum() / len(df[col]) * 100)} %')\n",
    "        print()"
   ]
  },
  {
   "cell_type": "markdown",
   "id": "70d15fee",
   "metadata": {},
   "source": [
    "Пропуски встречаются только в признаках с категориальными значениями. В числовых признаках пропусков нет"
   ]
  },
  {
   "cell_type": "markdown",
   "id": "41091abf",
   "metadata": {},
   "source": [
    "#### Выбросы"
   ]
  },
  {
   "cell_type": "code",
   "execution_count": 13,
   "id": "1857d81a",
   "metadata": {},
   "outputs": [
    {
     "data": {
      "image/png": "[encoded data removed]",
      "text/plain": [
       "<Figure size 1700x500 with 5 Axes>"
      ]
     },
     "metadata": {},
     "output_type": "display_data"
    }
   ],
   "source": [
    "# Границы выбросов:\n",
    "\n",
    "fig, axs = plt.subplots(1, len(df[numeric].columns), figsize=(17, 5))\n",
    "fig.suptitle('Распределение значений в количественных признаках')\n",
    "\n",
    "for n, col in enumerate(df[numeric]):\n",
    "    axs[n].boxplot(df[numeric][col])\n",
    "    axs[n].set_title(col)\n",
    "    axs[n].set_ylim(df[numeric][col].min() - 0.1 * df[numeric][col].min(), df[numeric][col].max() + 0.1 * df[numeric][col].max())\n",
    "   # = plt.subplots(figsize = (2,4))\n",
    "\n",
    "plt.show()"
   ]
  },
  {
   "cell_type": "markdown",
   "id": "f6a3bd35",
   "metadata": {},
   "source": [
    "Очевидно что некоторые данные в некоторых признаках некорректны: Например год регистрации (более года выгрузки данных), и слишком высокие показатели мощности - неправдоподобны (Эти выбросы нужно почистить)  \n",
    "  \n",
    "Остальные данные более менее правдоподобны несмотря на то, что выходят за рамки $±1.5 IQR $"
   ]
  },
  {
   "cell_type": "markdown",
   "id": "57dd58fc",
   "metadata": {},
   "source": [
    "<div class=\"alert alert-block alert-warning\">\n",
    "<b>Совет: </b> Не всегда выбросы нужно удалять - иногда это могут быть ценные, но редкие наблюдения.\n",
    "</div>\n"
   ]
  },
  {
   "cell_type": "code",
   "execution_count": 14,
   "id": "f2de788c",
   "metadata": {},
   "outputs": [
    {
     "data": {
      "text/html": [
       "<div>\n",
       "<style scoped>\n",
       "    .dataframe tbody tr th:only-of-type {\n",
       "        vertical-align: middle;\n",
       "    }\n",
       "\n",
       "    .dataframe tbody tr th {\n",
       "        vertical-align: top;\n",
       "    }\n",
       "\n",
       "    .dataframe thead th {\n",
       "        text-align: right;\n",
       "    }\n",
       "</style>\n",
       "<table border=\"1\" class=\"dataframe\">\n",
       "  <thead>\n",
       "    <tr style=\"text-align: right;\">\n",
       "      <th></th>\n",
       "      <th>RegistrationYear</th>\n",
       "      <th>Power</th>\n",
       "    </tr>\n",
       "  </thead>\n",
       "  <tbody>\n",
       "    <tr>\n",
       "      <th>0</th>\n",
       "      <td>1993</td>\n",
       "      <td>0</td>\n",
       "    </tr>\n",
       "    <tr>\n",
       "      <th>1</th>\n",
       "      <td>2011</td>\n",
       "      <td>190</td>\n",
       "    </tr>\n",
       "    <tr>\n",
       "      <th>2</th>\n",
       "      <td>2004</td>\n",
       "      <td>163</td>\n",
       "    </tr>\n",
       "    <tr>\n",
       "      <th>3</th>\n",
       "      <td>2001</td>\n",
       "      <td>75</td>\n",
       "    </tr>\n",
       "    <tr>\n",
       "      <th>4</th>\n",
       "      <td>2008</td>\n",
       "      <td>69</td>\n",
       "    </tr>\n",
       "    <tr>\n",
       "      <th>...</th>\n",
       "      <td>...</td>\n",
       "      <td>...</td>\n",
       "    </tr>\n",
       "    <tr>\n",
       "      <th>354364</th>\n",
       "      <td>2005</td>\n",
       "      <td>0</td>\n",
       "    </tr>\n",
       "    <tr>\n",
       "      <th>354365</th>\n",
       "      <td>2005</td>\n",
       "      <td>0</td>\n",
       "    </tr>\n",
       "    <tr>\n",
       "      <th>354366</th>\n",
       "      <td>2000</td>\n",
       "      <td>101</td>\n",
       "    </tr>\n",
       "    <tr>\n",
       "      <th>354367</th>\n",
       "      <td>1996</td>\n",
       "      <td>102</td>\n",
       "    </tr>\n",
       "    <tr>\n",
       "      <th>354368</th>\n",
       "      <td>2002</td>\n",
       "      <td>100</td>\n",
       "    </tr>\n",
       "  </tbody>\n",
       "</table>\n",
       "<p>354365 rows × 2 columns</p>\n",
       "</div>"
      ],
      "text/plain": [
       "        RegistrationYear  Power\n",
       "0                   1993      0\n",
       "1                   2011    190\n",
       "2                   2004    163\n",
       "3                   2001     75\n",
       "4                   2008     69\n",
       "...                  ...    ...\n",
       "354364              2005      0\n",
       "354365              2005      0\n",
       "354366              2000    101\n",
       "354367              1996    102\n",
       "354368              2002    100\n",
       "\n",
       "[354365 rows x 2 columns]"
      ]
     },
     "execution_count": 14,
     "metadata": {},
     "output_type": "execute_result"
    }
   ],
   "source": [
    "df[numeric][['RegistrationYear', 'Power']]"
   ]
  },
  {
   "cell_type": "code",
   "execution_count": 15,
   "id": "eb40048a",
   "metadata": {
    "scrolled": true
   },
   "outputs": [],
   "source": [
    "# Почистим выбросы\n",
    "\n",
    "list_col_size = []\n",
    "emiss = [\n",
    "    df[numeric]['RegistrationYear'],\n",
    "    df[numeric]['Power']\n",
    "]\n",
    "for n, col in enumerate(emiss):\n",
    "    \n",
    "    high_quantile = col.quantile(0.75)\n",
    "    low_quantile = col.quantile(0.25)\n",
    "    iqr = high_quantile - low_quantile\n",
    "    \n",
    "    high_treshold = high_quantile + (1.5*iqr)\n",
    "    low_treshold = low_quantile - (1.5*iqr)\n",
    "    \n",
    "    col = col[(col>low_treshold)&(col<high_treshold)]\n",
    "    list_col_size.append(col)"
   ]
  },
  {
   "cell_type": "code",
   "execution_count": 16,
   "id": "e95013b1",
   "metadata": {},
   "outputs": [],
   "source": [
    "# Перезапишем признаки без выбросов\n",
    "df['RegistrationYear'] = list_col_size[0]\n",
    "df['Power'] = list_col_size[1]\n",
    "\n",
    "# Удалим образовавшиеся пропуски\n",
    "df = df.dropna(subset = ['RegistrationYear', 'Power'], axis = 0)"
   ]
  },
  {
   "cell_type": "markdown",
   "id": "81104d09",
   "metadata": {},
   "source": [
    "\n",
    "\n",
    "<div class=\"alert alert-block alert-warning\">\n",
    "<b>Совет:</b> Советую посмотреть на дату выгрузки анкет - там тоже можно увидеть полезную информацию по поводу границ года регистраци.\n",
    "</div>"
   ]
  },
  {
   "cell_type": "markdown",
   "id": "83bf7aaf",
   "metadata": {},
   "source": [
    "<div class=\"alert alert-block alert-info\">\n",
    "<b>Изменения V1:</b>  \n",
    "    \n",
    "Сравним год выгрузки анкет и год регистрации автомобилей.  \n",
    "Если год регистрации превысит значение года выгрузки анкет - значит данные некорректны"
   ]
  },
  {
   "cell_type": "markdown",
   "id": "4a558e65",
   "metadata": {},
   "source": [
    "<div class=\"alert alert-block alert-success\">\n",
    "    \n",
    "<b>Успех[2]:</b> 👍\n",
    "</div>"
   ]
  },
  {
   "cell_type": "code",
   "execution_count": 17,
   "id": "4ea92a17",
   "metadata": {},
   "outputs": [],
   "source": [
    "# Исследуем дату выгрузки анкет\n",
    "\n",
    "df['DateCrawled'] = pd.to_datetime(df['DateCrawled'])"
   ]
  },
  {
   "cell_type": "code",
   "execution_count": 18,
   "id": "b9ee051a",
   "metadata": {},
   "outputs": [],
   "source": [
    "df['DateCrawled'] = df['DateCrawled'].dt.year"
   ]
  },
  {
   "cell_type": "code",
   "execution_count": 19,
   "id": "b635e451",
   "metadata": {},
   "outputs": [
    {
     "name": "stdout",
     "output_type": "stream",
     "text": [
      "Несоответсвие даты регистрации авто и выгрузки анкеты в 14213 строках\n"
     ]
    }
   ],
   "source": [
    "# Выяснилось что более 14 тыс. строк несоответствие в дате выгрузки анкеты и в дате регистрации авто\n",
    "\n",
    "print(f'Несоответсвие даты регистрации авто и выгрузки анкеты в {df[df[\"RegistrationYear\"] > df[\"DateCrawled\"]].shape[0]} строках')"
   ]
  },
  {
   "cell_type": "code",
   "execution_count": 20,
   "id": "40c65536",
   "metadata": {},
   "outputs": [],
   "source": [
    "# Удалим строки где год регистрации авто превышает год выгрузки анкеты\n",
    "\n",
    "df = df[df[\"RegistrationYear\"]< df['DateCrawled'].max()]"
   ]
  },
  {
   "cell_type": "code",
   "execution_count": 21,
   "id": "44520283",
   "metadata": {},
   "outputs": [],
   "source": [
    "# Столбец df['DateCrawled'] больше не понадобится - удалим его\n",
    "\n",
    "df = df.drop(['DateCrawled'], axis = 1)"
   ]
  },
  {
   "cell_type": "markdown",
   "id": "504cb41d",
   "metadata": {},
   "source": [
    "#### Распределение значений целевого признака"
   ]
  },
  {
   "cell_type": "code",
   "execution_count": 22,
   "id": "1fec3931",
   "metadata": {},
   "outputs": [
    {
     "data": {
      "image/png": "[encoded data removed]",
      "text/plain": [
       "<Figure size 600x400 with 1 Axes>"
      ]
     },
     "metadata": {},
     "output_type": "display_data"
    }
   ],
   "source": [
    "# Изучим распределение значений целевого признака\n",
    "\n",
    "df['Price'].hist(bins = 50, rwidth=0.9, figsize = (6,4), legend = True)\n",
    "plt.xlabel('распределение значений целевого признака')\n",
    "plt.show()"
   ]
  },
  {
   "cell_type": "markdown",
   "id": "77eb2c15",
   "metadata": {},
   "source": [
    "В целевом признаке 10 тыс. строк со значением 0, Эти строки удалим - они создают шум."
   ]
  },
  {
   "cell_type": "code",
   "execution_count": 23,
   "id": "8af8770a",
   "metadata": {},
   "outputs": [],
   "source": [
    "# УДалим строки с нулевыми значениями цены\n",
    "\n",
    "df = df[df['Price'] > 0]"
   ]
  },
  {
   "cell_type": "markdown",
   "id": "43c87056",
   "metadata": {},
   "source": [
    "\n",
    "<div class=\"alert alert-block alert-success\">\n",
    "<b>Успех:</b>  А около-нулевые цены, не кажется подозрительными? Самое интересное, что на нескольких сайтов по продажам подержанных автомобилей в Германии (страну можно определить по почтовым индексам, большинство из них из Германии) показало, что цены начинаются действительно с 0 и 1 евро, но это единичные объявления и не понятно, то ли это ошибка при заполнении формы, то ли машины на металлолом. Но я  все-таки склоняюсь к тому, чтобы избавиться от таких данных\n",
    "</div>"
   ]
  },
  {
   "cell_type": "markdown",
   "id": "74a909ff",
   "metadata": {},
   "source": [
    "#### Количество объектов"
   ]
  },
  {
   "cell_type": "code",
   "execution_count": 24,
   "id": "c3622738",
   "metadata": {},
   "outputs": [],
   "source": [
    "final_size = df.shape[0]"
   ]
  },
  {
   "cell_type": "code",
   "execution_count": 25,
   "id": "0c730126",
   "metadata": {
    "scrolled": true
   },
   "outputs": [
    {
     "name": "stdout",
     "output_type": "stream",
     "text": [
      "Размер данных после удаления выбросов и пропусков: 308446\n",
      "Количество удаленных строк: 45923(13% от размера начальной выборки)\n"
     ]
    }
   ],
   "source": [
    "print(f'Размер данных после удаления выбросов и пропусков: {final_size}')\n",
    "print(f'Количество удаленных строк: {init_size - final_size}({round((init_size - final_size) / init_size * 100)}% от размера начальной выборки)')"
   ]
  },
  {
   "cell_type": "markdown",
   "id": "e6415ec9",
   "metadata": {},
   "source": [
    "### Корреляция признаков"
   ]
  },
  {
   "cell_type": "code",
   "execution_count": 26,
   "id": "d19e9675",
   "metadata": {},
   "outputs": [
    {
     "data": {
      "text/html": [
       "<div>\n",
       "<style scoped>\n",
       "    .dataframe tbody tr th:only-of-type {\n",
       "        vertical-align: middle;\n",
       "    }\n",
       "\n",
       "    .dataframe tbody tr th {\n",
       "        vertical-align: top;\n",
       "    }\n",
       "\n",
       "    .dataframe thead th {\n",
       "        text-align: right;\n",
       "    }\n",
       "</style>\n",
       "<table border=\"1\" class=\"dataframe\">\n",
       "  <thead>\n",
       "    <tr style=\"text-align: right;\">\n",
       "      <th></th>\n",
       "      <th>Price</th>\n",
       "      <th>RegistrationYear</th>\n",
       "      <th>Power</th>\n",
       "      <th>Kilometer</th>\n",
       "      <th>RegistrationMonth</th>\n",
       "    </tr>\n",
       "  </thead>\n",
       "  <tbody>\n",
       "    <tr>\n",
       "      <th>Price</th>\n",
       "      <td>1.000000</td>\n",
       "      <td>0.672629</td>\n",
       "      <td>0.472747</td>\n",
       "      <td>-0.376350</td>\n",
       "      <td>0.091145</td>\n",
       "    </tr>\n",
       "    <tr>\n",
       "      <th>RegistrationYear</th>\n",
       "      <td>0.672629</td>\n",
       "      <td>1.000000</td>\n",
       "      <td>0.211956</td>\n",
       "      <td>-0.400108</td>\n",
       "      <td>0.076904</td>\n",
       "    </tr>\n",
       "    <tr>\n",
       "      <th>Power</th>\n",
       "      <td>0.472747</td>\n",
       "      <td>0.211956</td>\n",
       "      <td>1.000000</td>\n",
       "      <td>0.076316</td>\n",
       "      <td>0.110872</td>\n",
       "    </tr>\n",
       "    <tr>\n",
       "      <th>Kilometer</th>\n",
       "      <td>-0.376350</td>\n",
       "      <td>-0.400108</td>\n",
       "      <td>0.076316</td>\n",
       "      <td>1.000000</td>\n",
       "      <td>-0.005217</td>\n",
       "    </tr>\n",
       "    <tr>\n",
       "      <th>RegistrationMonth</th>\n",
       "      <td>0.091145</td>\n",
       "      <td>0.076904</td>\n",
       "      <td>0.110872</td>\n",
       "      <td>-0.005217</td>\n",
       "      <td>1.000000</td>\n",
       "    </tr>\n",
       "  </tbody>\n",
       "</table>\n",
       "</div>"
      ],
      "text/plain": [
       "                      Price  RegistrationYear     Power  Kilometer  \\\n",
       "Price              1.000000          0.672629  0.472747  -0.376350   \n",
       "RegistrationYear   0.672629          1.000000  0.211956  -0.400108   \n",
       "Power              0.472747          0.211956  1.000000   0.076316   \n",
       "Kilometer         -0.376350         -0.400108  0.076316   1.000000   \n",
       "RegistrationMonth  0.091145          0.076904  0.110872  -0.005217   \n",
       "\n",
       "                   RegistrationMonth  \n",
       "Price                       0.091145  \n",
       "RegistrationYear            0.076904  \n",
       "Power                       0.110872  \n",
       "Kilometer                  -0.005217  \n",
       "RegistrationMonth           1.000000  "
      ]
     },
     "execution_count": 26,
     "metadata": {},
     "output_type": "execute_result"
    }
   ],
   "source": [
    "# Изучим взаимосвязь признаков\n",
    "\n",
    "df[numeric].corr()"
   ]
  },
  {
   "cell_type": "markdown",
   "id": "0b894c63",
   "metadata": {},
   "source": [
    "На цену больше всего влияет **год регистрации** и **мощность автомобиля**"
   ]
  },
  {
   "cell_type": "markdown",
   "id": "c8633fb2",
   "metadata": {},
   "source": [
    "\n",
    "\n",
    "<div class=\"alert alert-block alert-warning\">\n",
    "<b>Совет:</b> Советую обратить на инструмент <a href=\"https://phik.readthedocs.io/en/latest\" >phik</a>, который помогает устанавливать связи (не только линейные) между факторами (и не только между количественными)\n",
    "</div>\n"
   ]
  },
  {
   "cell_type": "markdown",
   "id": "720b4ecc",
   "metadata": {},
   "source": [
    "<div class=\"alert alert-block alert-info\">\n",
    "<b>Изменения V1:</b>  \n",
    "    \n",
    "Посмотрим корреляцию признаков с помощью phik  \n",
    "    \n",
    "(Действительно, phik более эффективный инструмент для изучения взаимосвязей признаков)\n"
   ]
  },
  {
   "cell_type": "code",
   "execution_count": 27,
   "id": "e0592d05",
   "metadata": {},
   "outputs": [
    {
     "name": "stdout",
     "output_type": "stream",
     "text": [
      "interval columns not set, guessing: ['Price', 'RegistrationYear', 'Power', 'Kilometer', 'RegistrationMonth']\n"
     ]
    },
    {
     "data": {
      "text/plain": [
       "Price                1.000000\n",
       "RegistrationYear     0.725310\n",
       "Model                0.576109\n",
       "Power                0.524566\n",
       "Brand                0.354996\n",
       "Kilometer            0.328309\n",
       "Repaired             0.293172\n",
       "Gearbox              0.279615\n",
       "VehicleType          0.271729\n",
       "FuelType             0.183348\n",
       "RegistrationMonth    0.156361\n",
       "Name: Price, dtype: float64"
      ]
     },
     "execution_count": 27,
     "metadata": {},
     "output_type": "execute_result"
    }
   ],
   "source": [
    "# Выведем значения корреляции по мере значимости признаков для целевого\n",
    "\n",
    "phik_corr = df.phik_matrix()['Price'].sort_values(ascending = False)\n",
    "phik_corr"
   ]
  },
  {
   "cell_type": "markdown",
   "id": "98f20bce",
   "metadata": {},
   "source": [
    "Видим что Цена наиболее зависит от **года регистрации** автомобиля, также значительно влияют **Модель** и **Мощность**"
   ]
  },
  {
   "cell_type": "markdown",
   "id": "bcfa4bf9",
   "metadata": {},
   "source": [
    "### Разделение на обучающую и тестовую выборки"
   ]
  },
  {
   "cell_type": "markdown",
   "id": "fdc0ddc0",
   "metadata": {},
   "source": [
    "#### Выделение признаков и Целевого признака"
   ]
  },
  {
   "cell_type": "code",
   "execution_count": 28,
   "id": "ac896c42",
   "metadata": {},
   "outputs": [],
   "source": [
    "# Признаки и Целевой\n",
    "\n",
    "features = df.drop(['Price'], axis = 1)\n",
    "target = df['Price']\n",
    "\n",
    "# Также удалим из списка названий числовых признаков 'Price'\n",
    "numeric.remove('Price')"
   ]
  },
  {
   "cell_type": "markdown",
   "id": "b5432f3d",
   "metadata": {},
   "source": [
    "<div class=\"alert alert-block alert-info\">\n",
    "<b>Изменения V1:</b>  \n",
    "    \n",
    "Закомментирую кодирование и масштабирование (исправлю ошибки ниже)"
   ]
  },
  {
   "cell_type": "code",
   "execution_count": 29,
   "id": "6ac280b5",
   "metadata": {},
   "outputs": [],
   "source": [
    "## Отдельно сохраним признаки для последующего кодирования категориальных признаков\n",
    "#\n",
    "#features_without_cat = features.copy()"
   ]
  },
  {
   "cell_type": "markdown",
   "id": "680f7b25",
   "metadata": {},
   "source": [
    "#### Кодирование категориальных признаков"
   ]
  },
  {
   "cell_type": "code",
   "execution_count": 30,
   "id": "3e8af3dd",
   "metadata": {},
   "outputs": [],
   "source": [
    "## Закодируем категориальные признаки\n",
    "#\n",
    "#encoder = OrdinalEncoder()\n",
    "#features_encode_cat = pd.DataFrame(data = encoder.fit_transform(features_without_cat), columns = features_without_cat.columns, index = features_without_cat.index)"
   ]
  },
  {
   "cell_type": "markdown",
   "id": "a162bc2c",
   "metadata": {},
   "source": [
    "<div class=\"alert alert-block alert-danger\">\n",
    "    \n",
    "\n",
    "<b>Ошибка:</b>  OE - хороший выбор для всех моделей, кроме линейных, они не могут корректно обрабатывать номинальные данные обработанные порядковым способом. Для них хорош OHE, но тот же OHE нельзя применять для всех других моделей здесь (потому что не эффективно, с точки зрения времени)\n",
    "  \n",
    "Я тебе могу предложить, что можно сделать:\n",
    "    \n",
    "- Сделать 1 набор данных: \n",
    "    - Закодировать для всех моделей методом TargetEncoder, BinaryEncoder - вполне универсальные варианты\n",
    "    - Закодировать все признаки методом OHE, а модель машины методом OE\n",
    "    - Убрать использование линейных моделей (так как их рассмотрение не обязательно) и использовать единственный метод кодировки OE.\n",
    "- Сделать 2 набора данных\n",
    "    - Закодировать для линейных моделей методом OHE, для остальных OE (или внутренний метод кодирования данных)\n",
    "    \n",
    "P.S. Отмечу, что encoder правильно применять после разбиения данных и обучать только на обучающей выборке, для остальных выборок просто использовать transform. Примеры использования с объяснениями можно найти посмотреь https://colab.research.google.com/drive/1_gAMXcQKoCShB_l8FNtYEejMnosm9mvt?usp=sharing \n",
    "\n",
    "И не забывай использовать параметр `handle_unknown`\n",
    "  \n",
    "</div>\n"
   ]
  },
  {
   "cell_type": "code",
   "execution_count": 31,
   "id": "636da46b",
   "metadata": {},
   "outputs": [],
   "source": [
    "## Поместим признаки в список\n",
    "#\n",
    "#features_list = [features[numeric], features_encode_cat]"
   ]
  },
  {
   "cell_type": "markdown",
   "id": "eda83ac1",
   "metadata": {},
   "source": [
    "#### Масштабирование признаков"
   ]
  },
  {
   "cell_type": "code",
   "execution_count": 32,
   "id": "34c30564",
   "metadata": {},
   "outputs": [],
   "source": [
    "## Для масштабирования используем  MinMaxScaler\n",
    "#\n",
    "#features_scaled = []\n",
    "#for n, feat in enumerate(features_list):\n",
    "#    scaler = MinMaxScaler()\n",
    "#    feat = pd.DataFrame(scaler.fit_transform(feat), columns = feat.columns, index = feat.index)\n",
    "#    features_scaled.append(feat)"
   ]
  },
  {
   "cell_type": "markdown",
   "id": "97450e50",
   "metadata": {},
   "source": [
    "<div class=\"alert alert-block alert-danger\">\n",
    "<b>Ошибка:</b> Упс, и здесь допущена  небольшая ошибка. Хоть это не повлияло на результат, но это важно <br>\n",
    " Обучать scaler (fit/fit_transform) нужно только на трейне, инче это может привести к утечке данных (data leak). <br>А для остальных выборок делать просто (transform)\n",
    "    \n",
    "Про Data Leaks можно почитать подробнее по следующим ссылкам:\n",
    "\n",
    "[Ссылка 1](https://towardsdatascience.com/preventing-data-leakage-in-your-machine-learning-model-9ae54b3cd1fb) <br>\n",
    "[Ссылка 2](https://machinelearningmastery.com/data-preparation-without-data-leakage/)\n",
    "\n",
    "\n",
    "</div>"
   ]
  },
  {
   "cell_type": "code",
   "execution_count": 33,
   "id": "8fa1a4bb",
   "metadata": {},
   "outputs": [],
   "source": [
    "## Перезапишем признаки\n",
    "#\n",
    "#features[numeric] = features_scaled[0]\n",
    "#features_encode_cat = features_scaled[1]"
   ]
  },
  {
   "cell_type": "markdown",
   "id": "9ea35719",
   "metadata": {},
   "source": [
    "#### Train_Test_Split"
   ]
  },
  {
   "cell_type": "code",
   "execution_count": 34,
   "id": "1d7f8727",
   "metadata": {},
   "outputs": [],
   "source": [
    "## Признаки Train и Test для CatboostRegressor\n",
    "#\n",
    "#features_cat_train, features_cat_test = train_test_split(features, test_size = 0.25, random_state = RANDOM)"
   ]
  },
  {
   "cell_type": "code",
   "execution_count": 35,
   "id": "1d6f6483",
   "metadata": {},
   "outputs": [],
   "source": [
    "## Признаки Train и Test для простых моделей LGBMRegressor + Общий target\n",
    "#\n",
    "#features_encode_cat_train, features_encode_cat_test, target_train, target_test = train_test_split(features_encode_cat, target, test_size = 0.25, random_state = RANDOM)"
   ]
  },
  {
   "cell_type": "markdown",
   "id": "01270751",
   "metadata": {},
   "source": [
    "\n",
    "### Train_Test_Split (Исправление v1)"
   ]
  },
  {
   "cell_type": "code",
   "execution_count": 36,
   "id": "066e55cc",
   "metadata": {},
   "outputs": [],
   "source": [
    "# Разделим признаки на обучающую и тестовую выборки\n",
    "\n",
    "features_train, features_test, target_train, target_test = train_test_split(features, target, test_size = 0.25, random_state = RANDOM)"
   ]
  },
  {
   "cell_type": "markdown",
   "id": "0df9e5fe",
   "metadata": {},
   "source": [
    "<div class=\"alert alert-block alert-info\">\n",
    "<b>Изменения V1:</b>  \n",
    "    Воспользуюсь этой рекомендацией:\n",
    "    \n",
    "<div class=\"alert alert-block alert-danger\">\n",
    "    \n",
    "Сделать 1 набор данных:  \n",
    "- Закодировать для всех моделей методом TargetEncoder, BinaryEncoder - вполне универсальные варианты\n",
    "</div>  \n",
    "    \n",
    "Буду применять TargetEncoder, который использует среднее значение целевой метки по данному значению категориального признака."
   ]
  },
  {
   "cell_type": "markdown",
   "id": "c0ece494",
   "metadata": {},
   "source": [
    "<div class=\"alert alert-block alert-success\">\n",
    "    \n",
    "<b>Успех[2]:</b> Есть контакт\n",
    "</div>"
   ]
  },
  {
   "cell_type": "markdown",
   "id": "487b2fa0",
   "metadata": {},
   "source": [
    "#### Кодирование категориальных признаков (v.1)"
   ]
  },
  {
   "cell_type": "code",
   "execution_count": 37,
   "id": "39195dad",
   "metadata": {},
   "outputs": [],
   "source": [
    "# TargetEncoder\n",
    "\n",
    "encoder = TargetEncoder()\n",
    "encoder.fit(features_train, target_train)\n",
    "features_train_encoded = encoder.transform(features_train)\n",
    "features_test_encoded = encoder.transform(features_test)"
   ]
  },
  {
   "cell_type": "markdown",
   "id": "21409a04",
   "metadata": {},
   "source": [
    "#### Масштабирование признаков (v.1)"
   ]
  },
  {
   "cell_type": "code",
   "execution_count": 38,
   "id": "72682a56",
   "metadata": {},
   "outputs": [],
   "source": [
    "# Для масштабирования используем  MinMaxScaler\n",
    "\n",
    "scaler = MinMaxScaler()\n",
    "scaler.fit(features_train_encoded)\n",
    "\n",
    "# Масштабирование Train \n",
    "\n",
    "features_train_scaled = pd.DataFrame(scaler.transform(features_train_encoded), columns = features_train_encoded.columns)\n",
    "\n",
    "# Масштабирование Test\n",
    "\n",
    "features_test_scaled = pd.DataFrame(scaler.transform(features_test_encoded), columns = features_test_encoded.columns)"
   ]
  },
  {
   "cell_type": "markdown",
   "id": "3bc4e54b",
   "metadata": {},
   "source": [
    "<div class=\"alert alert-block alert-success\">\n",
    "    \n",
    "<b>Успех[2]:</b> 👍\n",
    "</div>"
   ]
  },
  {
   "cell_type": "markdown",
   "id": "abcd2b1d",
   "metadata": {},
   "source": [
    "---"
   ]
  },
  {
   "cell_type": "markdown",
   "id": "53e4e6a5",
   "metadata": {},
   "source": [
    "## Подбор Гиперпараметров (RandomizedSearchCV)"
   ]
  },
  {
   "cell_type": "markdown",
   "id": "f6cf9da0",
   "metadata": {},
   "source": [
    "###  Простые модели"
   ]
  },
  {
   "cell_type": "markdown",
   "id": "95a57b6c",
   "metadata": {},
   "source": [
    "#### RandomForest"
   ]
  },
  {
   "cell_type": "code",
   "execution_count": 39,
   "id": "efbb2a84",
   "metadata": {},
   "outputs": [],
   "source": [
    "# Гиперпараметры для RandomForest\n",
    "\n",
    "model_forest = RandomForestRegressor(random_state=RANDOM, n_jobs = -1)\n",
    "params_forest = {\n",
    "    'n_estimators': range(100, 1000, 100),\n",
    "    'max_depth': range(1, 21),\n",
    "    'max_features': ['log2', 'sqrt', None],\n",
    "    'min_samples_leaf': range(1, 11),\n",
    "    'bootstrap': [True, False]\n",
    "}"
   ]
  },
  {
   "cell_type": "code",
   "execution_count": 40,
   "id": "95fa5be7",
   "metadata": {
    "scrolled": true
   },
   "outputs": [],
   "source": [
    "# Закоментировано, выполнялось 27min 3s. Лучшие гиперпараметры сохранены ниже\n",
    "#\n",
    "#%%time\n",
    "## Поиск лучших гиперпараметров для RandomForest\n",
    "#\n",
    "#rs_forest = RandomizedSearchCV(model_forest, params_forest, cv=3, scoring = 'neg_mean_squared_error', error_score='raise', random_state=12345)\n",
    "#rs_forest.fit(features_train_scaled, target_train)\n",
    "#print(f'Лучшие параметры Леса: {rs_forest.best_params_}')"
   ]
  },
  {
   "cell_type": "code",
   "execution_count": 41,
   "id": "8a992793",
   "metadata": {},
   "outputs": [],
   "source": [
    "# Лучшие гиперпараметры для RandomForest (scoring = MSE)\n",
    "\n",
    "rs_forest_best_params = {\n",
    "    'n_estimators': [900],\n",
    "    'min_samples_leaf': [5],\n",
    "    'max_features': ['log2'],\n",
    "    'max_depth': [16],\n",
    "    'bootstrap': [True]\n",
    "}"
   ]
  },
  {
   "cell_type": "markdown",
   "id": "bcde45db",
   "metadata": {},
   "source": [
    "#### ElasticNetCV"
   ]
  },
  {
   "cell_type": "code",
   "execution_count": 42,
   "id": "65845717",
   "metadata": {},
   "outputs": [],
   "source": [
    "# Закоментировано, выполнялось 27min 3s. Лучшие гиперпараметры сохранены ниже\n",
    "\n",
    "# Гиперпараметры дляElasticNetCV\n",
    "\n",
    "elastic_model = ElasticNetCV(random_state = RANDOM)\n",
    "elastic_params = {\n",
    "'max_iter': range(2, 20, 1),\n",
    "'fit_intercept': [True, False]\n",
    "}"
   ]
  },
  {
   "cell_type": "code",
   "execution_count": 43,
   "id": "bb54ecae",
   "metadata": {},
   "outputs": [],
   "source": [
    "# Закоментировано, выполнялось 28.7 s. Лучшие гиперпараметры сохранены ниже\n",
    "\n",
    "#%%time\n",
    "## Поиск лучших гиперпараметров для ElasticNetCV\n",
    "#\n",
    "#rs_elastic = RandomizedSearchCV(elastic_model, elastic_params, cv=3, scoring = 'neg_mean_squared_error', error_score='raise', random_state=12345)\n",
    "#rs_elastic.fit(features_train_scaled, target_train)\n",
    "#print(f'Лучшие параметры Elastic: {rs_elastic.best_params_}')"
   ]
  },
  {
   "cell_type": "code",
   "execution_count": 44,
   "id": "0cc29b38",
   "metadata": {},
   "outputs": [],
   "source": [
    "# Лучшие гиперпараметры ElasticNetCV (scoring = MSE)\n",
    "\n",
    "rs_elastic_best_params = {\n",
    "    'max_iter': [7],\n",
    "    'fit_intercept': [True]\n",
    "}"
   ]
  },
  {
   "cell_type": "markdown",
   "id": "a301b071",
   "metadata": {},
   "source": [
    "#### LinearRegression"
   ]
  },
  {
   "cell_type": "code",
   "execution_count": 45,
   "id": "612a8032",
   "metadata": {},
   "outputs": [],
   "source": [
    "# Гиперпараметры для LinearRegression\n",
    "\n",
    "linear_model = LinearRegression(n_jobs = -1)\n",
    "linear_params = {\n",
    "    'fit_intercept': [True, False],\n",
    "    'copy_X': [True, False],\n",
    "    'positive': [True, False]\n",
    "}"
   ]
  },
  {
   "cell_type": "code",
   "execution_count": 46,
   "id": "f3d71f2e",
   "metadata": {},
   "outputs": [],
   "source": [
    "# Закоментировано, выполнялось 2.35 s. Лучшие гиперпараметры сохранены ниже\n",
    "\n",
    "#%%time\n",
    "#\n",
    "## Поиск лучших гиперпараметров для LinearRegression\n",
    "#rs_linear = RandomizedSearchCV(linear_model, linear_params, cv=3, scoring = 'neg_mean_squared_error', error_score='raise', random_state=12345)\n",
    "#rs_linear.fit(features_train_scaled, target_train)\n",
    "#print(f'Лучшие параметры linear: {rs_linear.best_params_}')"
   ]
  },
  {
   "cell_type": "code",
   "execution_count": 47,
   "id": "474efba0",
   "metadata": {},
   "outputs": [],
   "source": [
    "linear_best_params = {\n",
    "    'fit_intercept': [True],\n",
    "    'copy_X': [True],\n",
    "    'positive': [False]\n",
    "}"
   ]
  },
  {
   "cell_type": "markdown",
   "id": "f1d80309",
   "metadata": {},
   "source": [
    "### Бустинг"
   ]
  },
  {
   "cell_type": "markdown",
   "id": "ee060903",
   "metadata": {},
   "source": [
    "#### LGBMRegressor"
   ]
  },
  {
   "cell_type": "code",
   "execution_count": 48,
   "id": "f1e05810",
   "metadata": {},
   "outputs": [],
   "source": [
    "# Гиперпараметры для LGBMRegressor\n",
    "\n",
    "lgbm_models = LGBMRegressor()\n",
    "lgbm_params = {\n",
    "    'max_depth': range(2, 21),\n",
    "    'num_leaves': range(2,50),\n",
    "    'learning_rate': np.arange(0.1,1,0.1)\n",
    "}"
   ]
  },
  {
   "cell_type": "code",
   "execution_count": 49,
   "id": "7e7ad4c9",
   "metadata": {},
   "outputs": [],
   "source": [
    "# Закоментировано, выполнялось  22.9 s. Лучшие гиперпараметры сохранены ниже\n",
    "\n",
    "#%%time\n",
    "#\n",
    "## Поиск лучших гиперпараметров для LGBMRegressor\n",
    "#rs_lgbm = RandomizedSearchCV(lgbm_models, lgbm_params, cv=3, scoring = 'neg_mean_squared_error', error_score='raise', random_state=12345)\n",
    "#rs_lgbm.fit(features_train_scaled, target_train)\n",
    "#print(f'Лучшие параметры lgbm: {rs_lgbm.best_params_}')"
   ]
  },
  {
   "cell_type": "code",
   "execution_count": 50,
   "id": "159076c3",
   "metadata": {},
   "outputs": [],
   "source": [
    "# Лучшие Гиперпараметры для LGBMRegressor (scoring = MSE)\n",
    "\n",
    "rs_lgbm_best_params = {\n",
    "    'num_leaves': [38],\n",
    "    'max_depth': [17],\n",
    "    'learning_rate': [0.4]\n",
    "}"
   ]
  },
  {
   "cell_type": "markdown",
   "id": "e1ed2963",
   "metadata": {},
   "source": [
    "#### CatBoostRegressor"
   ]
  },
  {
   "cell_type": "code",
   "execution_count": 51,
   "id": "d61b8c12",
   "metadata": {},
   "outputs": [],
   "source": [
    "# Гиперпараметры для CatBoostRegressor\n",
    "\n",
    "cat_models = CatBoostRegressor(loss_function = 'RMSE')\n",
    "cat_params = {\n",
    "    'depth': range(2,16),\n",
    "    'learning_rate': np.arange(.01, 0.1, .01),\n",
    "    'iterations': range(100, 1000, 100)\n",
    "}"
   ]
  },
  {
   "cell_type": "code",
   "execution_count": 52,
   "id": "9468d0a1",
   "metadata": {},
   "outputs": [],
   "source": [
    "# Закоментировано, выполнялось  20min 44s, Лучшие гиперпараметры сохранены ниже\n",
    "\n",
    "#%%time\n",
    "#\n",
    "## Закоментировано (Выполнялось 1h 13min 48s. Лучшие гиперпараметры сохранил отдельно - ниже)\n",
    "#\n",
    "## Поиск лучших гиперпараметров для CatBoostRegressor\n",
    "#rs_CatBoost = RandomizedSearchCV(cat_models, cat_params, cv=3, scoring = 'neg_mean_squared_error', error_score='raise',  n_jobs = -1, random_state=12345)\n",
    "#\n",
    "#rs_CatBoost.fit(features_train_scaled, target_train, verbose = 500)\n",
    "#print(f'Лучшие параметры CatBoost: {rs_CatBoost.best_params_}')"
   ]
  },
  {
   "cell_type": "code",
   "execution_count": 53,
   "id": "d8576f76",
   "metadata": {},
   "outputs": [],
   "source": [
    "# Лучшие Гиперпараметры для CatBoost:\n",
    "\n",
    "rs_CatBoost_best_params = {\n",
    "    'learning_rate': [0.09],\n",
    "    'iterations': [700],\n",
    "    'depth': [15]\n",
    "}"
   ]
  },
  {
   "cell_type": "code",
   "execution_count": 54,
   "id": "c8113919",
   "metadata": {},
   "outputs": [],
   "source": [
    "# Список с лучшими гиперпараметрами\n",
    "best_params_list = [\n",
    "    rs_elastic_best_params,\n",
    "    linear_best_params, \n",
    "    rs_lgbm_best_params,\n",
    "    \n",
    "]\n",
    "\n",
    "# Список моделей\n",
    "model_list = [elastic_model, linear_model, lgbm_models]\n",
    "\n",
    "# Список с названиями моделей\n",
    "name_list = ['ElasticNetCV', 'LinRegression', 'LGBM']"
   ]
  },
  {
   "cell_type": "markdown",
   "id": "a1de6596",
   "metadata": {},
   "source": [
    "---"
   ]
  },
  {
   "cell_type": "markdown",
   "id": "06fe4f08",
   "metadata": {},
   "source": [
    "## Выбор лучшей модели (GridSearchCV)"
   ]
  },
  {
   "cell_type": "markdown",
   "id": "14b1c1ab",
   "metadata": {},
   "source": [
    "<div class=\"alert alert-info\">\n",
    "    <b>Комментарий студента:</b>\n",
    "    \n",
    "У меня вопрос: Правильно ли я поступил:\n",
    "    Указав в RandomizedSCV и GridSCV параметр scoring = 'neg_mean_squared_error' получаю всегда отрицательное число!  \n",
    "    Для того чтобы вычислить RMSE (корень из отриц. числа не вычисляется), умножил на -1?"
   ]
  },
  {
   "cell_type": "markdown",
   "id": "33ae5832",
   "metadata": {},
   "source": [
    "<div class=\"alert alert-block alert-success\">\n",
    "<b>Успех:</b> Да, все правильно. Данные инструменты всегда пытаются найти улучшить метрику, поэтому и используют отрицательные числа. Домножив на -1 получим  RMSE"
   ]
  },
  {
   "cell_type": "code",
   "execution_count": 55,
   "id": "be077203",
   "metadata": {},
   "outputs": [
    {
     "name": "stdout",
     "output_type": "stream",
     "text": [
      "\n",
      "Время обучения ElasticNetCV: 7.9306418895721436\n",
      "Время предсказания ElasticNetCV: 0.0060389041900634766\n",
      "RMSE ElasticNetCV: 4048.0335137793018\n",
      "\n",
      "Время обучения LinRegression: 0.9370758533477783\n",
      "Время предсказания LinRegression: 0.0051310062408447266\n",
      "RMSE LinRegression: 2485.408140705538\n",
      "\n",
      "Время обучения LGBM: 6.08538293838501\n",
      "Время предсказания LGBM: 0.47639894485473633\n",
      "RMSE LGBM: 1500.1767359524445\n"
     ]
    }
   ],
   "source": [
    "# Выберем лучшие модели с помощью CV (Быстрые модели)\n",
    "\n",
    "grid_best_score_list = []\n",
    "grid_model_list = []\n",
    "timing = []\n",
    "timing_pred = []\n",
    "\n",
    "for n, model in enumerate(model_list):\n",
    "    \n",
    "    grid_model = GridSearchCV(model, best_params_list[n], scoring = 'neg_mean_squared_error')\n",
    "    start = time.time() # Засекаем время обучения\n",
    "    grid_model.fit(features_train_scaled, target_train)\n",
    "    end = time.time() # Стоп\n",
    "    \n",
    "    # Время предсказания\n",
    "    start_pred = time.time()\n",
    "    grid_model_predictions = grid_model.predict(features_train_scaled)\n",
    "    end_pred = time.time()\n",
    "    timing_pred.append(end_pred - start_pred)\n",
    "    print()\n",
    "    \n",
    "    print(f'Время обучения {name_list[n]}: {end - start}')\n",
    "    print(f'Время предсказания {name_list[n]}: {end_pred - start_pred}')\n",
    "    \n",
    "    rmse = np.sqrt(-1 * grid_model.best_score_)\n",
    "    print(f'RMSE {name_list[n]}: {rmse}')\n",
    "    grid_best_score_list.append(rmse)\n",
    "    timing.append(end - start)\n",
    "    grid_model_list.append(grid_model)"
   ]
  },
  {
   "cell_type": "markdown",
   "id": "e792d726",
   "metadata": {},
   "source": [
    "\n",
    "<div class=\"alert alert-block alert-danger\">\n",
    "    \n",
    "<b>Ошибка:</b> время обучения это  чистый `.fit()` модели - без подбора гиперпараметров и без предсказаний, \n",
    "    \n",
    "P.S. можно вытаскивать  все  метрики  интересующие заказчика лаконично из GridSearchCV/RandomizedSearchCV, все они лежат в `.cv_results_`\n",
    "</div>\n"
   ]
  },
  {
   "cell_type": "markdown",
   "id": "89cc4b43",
   "metadata": {},
   "source": [
    "<div class=\"alert alert-info\">\n",
    "    <b> Исправил!\n",
    "Запустил команду начала отсчета вермени чуть позже:</b>  "
   ]
  },
  {
   "cell_type": "markdown",
   "id": "f74d5e1e",
   "metadata": {},
   "source": [
    "<div class=\"alert alert-block alert-warning\">\n",
    "    \n",
    "<b>Совет[2]:</b> Уже лучше, но не совсем. Fit гридсерча - это не обучение модели -  это и обучение и предсказания на разных фолдах. По хорошему нужно было использовать именной чистый fit модели.\n",
    "</div>"
   ]
  },
  {
   "cell_type": "markdown",
   "id": "7e08d6e1",
   "metadata": {},
   "source": [
    "<div class=\"alert alert-info\">\n",
    "    <b>Комментарий студента:</b>  \n",
    "    \n",
    "Kод для моделей, которые обучаются долго будет в отдельных ячейках и закоментирован после выполнения, результаты сохраню в отдельные переменные\n",
    "    \n",
    "**RandomForest** обучался 11.618 min.\n",
    "    \n",
    "**CatBoost** обучался очень долго (62.180 min.) "
   ]
  },
  {
   "cell_type": "code",
   "execution_count": 56,
   "id": "97c69611",
   "metadata": {},
   "outputs": [],
   "source": [
    "# RandomForest (Закоментировано, т.к долго обучается)\n",
    "#\n",
    "#best_model_forest = None\n",
    "#\n",
    "#grid_forest = GridSearchCV(model_forest, rs_forest_best_params, scoring = 'neg_mean_squared_error')\n",
    "#start = time.time() # Засекаем время обучения\n",
    "#grid_forest.fit(features_train_scaled, target_train)\n",
    "#end = time.time() # Стоп\n",
    "#print(f'Время обучения:{end - start}')\n",
    "#\n",
    "## Время предсказания\n",
    "#start_pred = time.time()\n",
    "#grid_forest_pred = grid_forest.predict(features_train_scaled)\n",
    "#end_pred = time.time()\n",
    "#print(f'Время предсказания: {end_pred - start_pred}')\n",
    "#\n",
    "#rmse_forest = np.sqrt(-1 * grid_forest.best_score_)\n",
    "#if grid_forest.score == grid_forest.best_score_:\n",
    "#    best_model_forest = grid_forest\n",
    "##grid_model_list.append(best_model_forest)\n",
    "#\n",
    "#print(f'RMSE Forest: {rmse_forest}')"
   ]
  },
  {
   "cell_type": "code",
   "execution_count": 57,
   "id": "c28749af",
   "metadata": {},
   "outputs": [],
   "source": [
    "# Пропишем отдельно получившиеся результаты RandomForest\n",
    "\n",
    "time_fit_forest = 697.1235492229462\n",
    "time_predict_forest = 16.25757908821106\n",
    "rmse_forest = 1596.5052301048502\n",
    "\n",
    "\n",
    "grid_best_score_list.append(rmse_forest)\n",
    "timing_pred.append(time_predict_forest)\n",
    "timing.append(time_fit_forest)"
   ]
  },
  {
   "cell_type": "code",
   "execution_count": 58,
   "id": "dd4a92fd",
   "metadata": {},
   "outputs": [],
   "source": [
    "## Отдельно обучим на других признаках catboost (Закоментировано, т.к долго обучается)\n",
    "#best_model_cat = None\n",
    "#\n",
    "#grid_cat = GridSearchCV(cat_models, rs_CatBoost_best_params, scoring = 'neg_mean_squared_error')\n",
    "#start = time.time() # Засекаем время обучения\n",
    "#grid_cat.fit(features_train_scaled, target_train, verbose = False)\n",
    "#end = time.time() # Стоп\n",
    "#print(f'Время обучения CatBoost: {end - start}')\n",
    "#\n",
    "#start_pred = time.time()\n",
    "#grid_cat_predictions = grid_cat.predict(features_train_scaled)\n",
    "#end_pred = time.time()\n",
    "#print(f'Время предсказания CatBoost: {end_pred - start_pred}')\n",
    "#\n",
    "#rmse_cat = np.sqrt(-1 * grid_cat.best_score_)\n",
    "#print(f'RMSE catboost: {rmse_cat}')\n",
    "#if grid_cat.score == grid_cat.best_score_:\n",
    "#    best_model_cat = grid_cat\n",
    "##grid_model_list.append(best_model_cat)\n",
    "##grid_best_score_list.append(rmse_cat)\n",
    "##timing.append(end - start)"
   ]
  },
  {
   "cell_type": "code",
   "execution_count": 59,
   "id": "af1fafe5",
   "metadata": {},
   "outputs": [],
   "source": [
    "# Пропишем отдельно получившиеся результаты CatBoost \n",
    "\n",
    "time_fit_cat = 1325.9559531211853\n",
    "time_predict_cat = 0.7315869331359863\n",
    "rmse_cat = 1437.124591393891\n",
    "\n",
    "grid_best_score_list.append(rmse_cat)\n",
    "timing_pred.append(time_predict_cat)\n",
    "timing.append(time_fit_cat)\n",
    "\n",
    "time_models = np.array(timing)\n",
    "time_pred = np.array(timing_pred)"
   ]
  },
  {
   "cell_type": "code",
   "execution_count": 60,
   "id": "f4ab2b34",
   "metadata": {},
   "outputs": [
    {
     "name": "stdout",
     "output_type": "stream",
     "text": [
      "\n",
      "RMSE модели ElasticNetCV: 4048.034\n",
      "Модель ElasticNetCV не подходит\n",
      "Время обучения: 7.931 sec.\n",
      "Время Предсказания: 0.006 min.\n",
      "\n",
      "RMSE модели LinRegression: 2485.408\n",
      "Модель LinRegression, подходит под условие проекта\n",
      "Время обучения: 0.937 sec.\n",
      "Время Предсказания: 0.005 min.\n",
      "\n",
      "RMSE модели LGBM: 1500.177\n",
      "Модель LGBM, подходит под условие проекта\n",
      "Время обучения: 6.085 sec.\n",
      "Время Предсказания: 0.476 min.\n",
      "\n",
      "RMSE модели RandomForest: 1596.505\n",
      "Модель RandomForest, подходит под условие проекта\n",
      "Время обучения: 11.619 min.\n",
      "Время Предсказания: 16.258 min.\n",
      "\n",
      "RMSE модели CatBoost: 1437.125\n",
      "Модель CatBoost, подходит под условие проекта\n",
      "Время обучения: 22.099 min.\n",
      "Время Предсказания: 0.732 min.\n"
     ]
    }
   ],
   "source": [
    "# Выведем показатели RMSE и время обучения для разнвх моделей\n",
    "\n",
    "minutes = 0\n",
    "name_list.extend(['RandomForest', 'CatBoost'])\n",
    "\n",
    "for n, value in enumerate(grid_best_score_list):\n",
    "    print()\n",
    "    print(f'RMSE модели {name_list[n]}: {value:.03f}')\n",
    "    if value < 2500:    # 2500 - Предельное значение RMSE по условиям проекта\n",
    "        print(f'Модель {name_list[n]}, подходит под условие проекта')\n",
    "    elif value > 2500:\n",
    "        print(f'Модель {name_list[n]} не подходит')\n",
    "        \n",
    "    if time_models[n] > 60:\n",
    "        minutes = time_models[n] / 60\n",
    "        print(f'Время обучения: {minutes:.03f} min.')\n",
    "    else: \n",
    "        print(f'Время обучения: {time_models[n]:.03f} sec.')\n",
    "        \n",
    "    if time_pred[n] > 60:\n",
    "        minutes_pred = time_pred[n]/60\n",
    "        print(f'Время Предсказания: {minutes_pred:.03f} min.')\n",
    "    else:\n",
    "        print(f'Время Предсказания: {time_pred[n]:.03f} min.')"
   ]
  },
  {
   "cell_type": "markdown",
   "id": "f08c1afc",
   "metadata": {},
   "source": [
    "### Показатели моделей (RMSE, Скорость обучения)"
   ]
  },
  {
   "cell_type": "markdown",
   "id": "614c9f27",
   "metadata": {},
   "source": [
    "<div class=\"alert alert-info\">\n",
    "    <b> Внесены некоторые изменения по показателям моделей!<div> </b> \n",
    "        \n",
    "- Еще одна модель (**LinearRegression**) подошла под условия проекта (**RMSE = 2485.408**)\n",
    "    \n",
    "- Показатели RMSE снизились после исправления Кодирования\n",
    "        \n",
    "</div>"
   ]
  },
  {
   "cell_type": "code",
   "execution_count": 61,
   "id": "4a501d97",
   "metadata": {
    "scrolled": true
   },
   "outputs": [
    {
     "data": {
      "text/html": [
       "<div>\n",
       "<style scoped>\n",
       "    .dataframe tbody tr th:only-of-type {\n",
       "        vertical-align: middle;\n",
       "    }\n",
       "\n",
       "    .dataframe tbody tr th {\n",
       "        vertical-align: top;\n",
       "    }\n",
       "\n",
       "    .dataframe thead th {\n",
       "        text-align: right;\n",
       "    }\n",
       "</style>\n",
       "<table border=\"1\" class=\"dataframe\">\n",
       "  <thead>\n",
       "    <tr style=\"text-align: right;\">\n",
       "      <th></th>\n",
       "      <th>ElasticNetCV</th>\n",
       "      <th>LinRegression</th>\n",
       "      <th>LGBM</th>\n",
       "      <th>RandomForest</th>\n",
       "      <th>CatBoost</th>\n",
       "    </tr>\n",
       "  </thead>\n",
       "  <tbody>\n",
       "    <tr>\n",
       "      <th>RMSE (€)</th>\n",
       "      <td>4048.033514</td>\n",
       "      <td>2485.408141</td>\n",
       "      <td>1500.176736</td>\n",
       "      <td>1596.50523</td>\n",
       "      <td>1437.124591</td>\n",
       "    </tr>\n",
       "    <tr>\n",
       "      <th>Скорость Обучения (minutes)</th>\n",
       "      <td>0.132177</td>\n",
       "      <td>0.015618</td>\n",
       "      <td>0.101423</td>\n",
       "      <td>11.618726</td>\n",
       "      <td>22.099266</td>\n",
       "    </tr>\n",
       "    <tr>\n",
       "      <th>Скорость Прогноза (minutes)</th>\n",
       "      <td>0.000101</td>\n",
       "      <td>0.000086</td>\n",
       "      <td>0.00794</td>\n",
       "      <td>0.27096</td>\n",
       "      <td>0.012193</td>\n",
       "    </tr>\n",
       "  </tbody>\n",
       "</table>\n",
       "</div>"
      ],
      "text/plain": [
       "                            ElasticNetCV LinRegression         LGBM  \\\n",
       "RMSE (€)                     4048.033514   2485.408141  1500.176736   \n",
       "Скорость Обучения (minutes)     0.132177      0.015618     0.101423   \n",
       "Скорость Прогноза (minutes)     0.000101      0.000086      0.00794   \n",
       "\n",
       "                            RandomForest     CatBoost  \n",
       "RMSE (€)                      1596.50523  1437.124591  \n",
       "Скорость Обучения (minutes)    11.618726    22.099266  \n",
       "Скорость Прогноза (minutes)      0.27096     0.012193  "
      ]
     },
     "execution_count": 61,
     "metadata": {},
     "output_type": "execute_result"
    }
   ],
   "source": [
    "# Для Наглядности соберем показатели в табличку\n",
    "\n",
    "report = pd.DataFrame(columns = name_list, index = ['RMSE (€)', 'Скорость Обучения (minutes)', 'Скорость Прогноза (minutes)'])\n",
    "report.loc['RMSE (€)',:] = grid_best_score_list\n",
    "report.loc['Скорость Обучения (minutes)',:] = time_models/60\n",
    "report.loc['Скорость Прогноза (minutes)',:] = time_pred/60\n",
    "report"
   ]
  },
  {
   "cell_type": "markdown",
   "id": "55e8443e",
   "metadata": {},
   "source": [
    "<div style=\"border:solid gray 2px; padding: 20px\">  \n",
    "\n",
    "При изучении моделей для предсказания рыночной стоимости автомобилей, три модели подошли по значению RMSE: (**RandomForest, LGBM, CatBoost**)  \n",
    "- Значение RMSE самое низкое у **CatBoost** (**1437.124**)  \n",
    "- Скорость обучения (RandomForest - **11.618726 min.**, CatBoost - **22.099 min.**) - это совсем не быстро  \n",
    "- Скорость предсказания достаточно быстрая у всех моделей\n",
    "  \n",
    "Самой отпимальной моделью будет **LGBM** (Приемлемое для проекта значение RMSE модели 1500.176, Быстрое время обучения: 5.259 sec.)"
   ]
  },
  {
   "cell_type": "markdown",
   "id": "3fe606f7",
   "metadata": {},
   "source": [
    "\n",
    "<div class=\"alert alert-block alert-success\">\n",
    "<b>Успех:</b> А так тлично проделан шаг\n",
    "    \n",
    "- Радует количество рассмотренных моделей.   \n",
    "- Кросс-валидационные методы успешно использованы. \n",
    "- Выбор лучшей модели обосновывается. \n",
    "- Всегда приятно наблюдать информативную таблицу.\n",
    "</div>\n"
   ]
  },
  {
   "cell_type": "markdown",
   "id": "e7670a43",
   "metadata": {},
   "source": [
    "---"
   ]
  },
  {
   "cell_type": "markdown",
   "id": "91c8d54c",
   "metadata": {},
   "source": [
    "## Проверка лучшей модели на тестовой выборке"
   ]
  },
  {
   "cell_type": "code",
   "execution_count": 62,
   "id": "7ca265c8",
   "metadata": {},
   "outputs": [],
   "source": [
    "# Оптимальная модель (LGBM)\n",
    "\n",
    "best_model = grid_model_list[2]"
   ]
  },
  {
   "cell_type": "code",
   "execution_count": 63,
   "id": "8fa8b80b",
   "metadata": {},
   "outputs": [
    {
     "name": "stdout",
     "output_type": "stream",
     "text": [
      "RMSE Лучшей модели (LGBM) на тестовой выборке: 1509.8622837925298\n"
     ]
    }
   ],
   "source": [
    "# RMSE Лучшей модели\n",
    "\n",
    "LGBM_predictions = best_model.predict(features_test_scaled)\n",
    "print(f'RMSE Лучшей модели (LGBM) на тестовой выборке: {np.sqrt(mean_squared_error(target_test, LGBM_predictions))}')"
   ]
  },
  {
   "cell_type": "code",
   "execution_count": 64,
   "id": "6e229284",
   "metadata": {},
   "outputs": [
    {
     "name": "stdout",
     "output_type": "stream",
     "text": [
      "RMSE Константной модели на тестовой выборке: 4423.734148736499\n"
     ]
    }
   ],
   "source": [
    "# Сравним с константной моделью\n",
    "\n",
    "dummy = DummyRegressor()\n",
    "dummy.fit(features_train_scaled, target_train)\n",
    "dummy_predictions = dummy.predict(features_test_scaled)\n",
    "print(f'RMSE Константной модели на тестовой выборке: {np.sqrt(mean_squared_error(target_test, dummy_predictions))}')"
   ]
  },
  {
   "cell_type": "markdown",
   "id": "f6e02fb8",
   "metadata": {},
   "source": [
    "\n",
    "<div class=\"alert alert-block alert-success\">\n",
    "<b>Успех:</b> С тестированием все в порядке\n",
    "</div>"
   ]
  },
  {
   "cell_type": "markdown",
   "id": "f1bf94ee",
   "metadata": {},
   "source": [
    "---"
   ]
  },
  {
   "cell_type": "markdown",
   "id": "3b1ae099",
   "metadata": {},
   "source": [
    "## Общий вывод по проекту"
   ]
  },
  {
   "cell_type": "markdown",
   "id": "0b10bdc2",
   "metadata": {},
   "source": [
    "<div class=\"alert alert-info\">\n",
    "    <b> Внесены некоторые изменения!<div> </b>"
   ]
  },
  {
   "cell_type": "markdown",
   "id": "79f290c6",
   "metadata": {},
   "source": [
    "<div style=\"border:solid gray 2px; padding: 20px\">   \n",
    "    \n",
    "    \n",
    "В данном проекте искали модели машинного обучения, которые будут предсказывать рыночную стоимость автомобилей!  \n",
    "\n",
    "На этапе предобработки данных:  \n",
    "- Пропуски встретились только в категориальных признаках (заменили на определенные значения, соответствующие логике собранных данных)  \n",
    "- Обработали неправдоподобные и неинформативные выбросы в столбцах.     \n",
    "- Количество удаленных строк: 45923(13% от размера начальной выборки)  \n",
    "---\n",
    "На этапе подготовки данных к обучению выделены обучающие и тестовые выборки:\n",
    "- С кодированием категориальных признаков TargetEncoder  \n",
    "---\n",
    "Исследовали разные модели:  \n",
    "- Простые:  \n",
    "    - RandomForest  \n",
    "    - ElasticNetCV  \n",
    "    - LinearRegression \n",
    "- Градиентный Бустинг:  \n",
    "    - LightGBM\n",
    "    - CatBoost  \n",
    "---\n",
    "    \n",
    "Критерии, которые важны заказчику:  \n",
    "\n",
    "- **Качество предсказания** (Для оценки качества моделей использовали метрику RMSE.)\n",
    "    \n",
    "Подходят по значению RMSE Четыре модели: (RandomForest, LinearRegression, LGBM, CatBoost)  \n",
    "Самый точный прогноз у CatBoost - RMSE = 1437.124591 €\n",
    "\n",
    "- **Время обучения модели**  \n",
    "Подходит только LGBM, время обучения 5.259 sec. sec.  \n",
    "Наиболее точный CatBoost обучается очень долго (22.099 min)\n",
    "    \n",
    "- **Время предсказания модели**  \n",
    "У всех трех моделей время построения прогноза достаточно быстрое\n",
    "---\n",
    "**Самая отпимальная модель** - **LGBM** (Приемлемое для проекта значение **RMSE** модели - **1500 €**, Быстрое время обучения: **5.25 sec.**)  \n",
    "    \n",
    "При проверке LightGBM на тестовой выборке получили RMSE = 1509.862 €\n",
    "(Константная модель прогнозирует с RMSE = 4423.734 €)  \n",
    "Для более точного прогноза можно использовать CatBoost(По усмотрению заказчика)"
   ]
  },
  {
   "cell_type": "markdown",
   "id": "e2c38efc",
   "metadata": {},
   "source": [
    "<div class=\"alert alert-block alert-success\">\n",
    "<b>Успех:</b> Всегда приятно наблюдать подробный и структурированный итоговый вывод в конце работы!\n",
    "</div>\n",
    "\n",
    "\n",
    "\n",
    "<div class=\"alert alert-block alert-warning\">\n",
    "<b>Совет:</b> \n",
    "\n",
    "Также если говорить, что можно ещё улучшить в подобных проектах, то я бы выделил такие моменты:<br>\n",
    "    \n",
    "1) Для понимания, а какие в итоге факторы важны при моделировании, можно выводить их важность, использую feature_importances_, ну и график заодно. Это будет смотреться очнь здорово: результативная метрика и график важности факторов)))\n",
    "    \n",
    "2) У нас разный возраст машин. Есть гипотеза, что для разных возрастов - своё ценообразование. Поэтому, можно попробовать ввести фактор \"тип возраста\" (ретро, супер-ретро, старая, новая... надо подумать..)..<br>\n",
    "\n",
    "</div>"
   ]
  },
  {
   "cell_type": "markdown",
   "id": "b8bde633",
   "metadata": {},
   "source": [
    "<div class=\"alert alert-info\">\n",
    "    <b> Вопрос: <div> </b> \n",
    "     \n",
    "<div class=\"alert alert-block alert-warning\"><br>\n",
    "1. Для понимания, а какие в итоге факторы важны при моделировании, можно выводить их важность, использую feature_importances_, ну и график заодно. Это будет смотреться очнь здорово: результативная метрика и график важности факторов)))</div>\n",
    "        \n",
    "Можешь подсказать на счет feature_importances_? Как это запустить? Попытался реализовать, но получилось кривовато (Пришлось обучать заново модель, типа GridSearhCV не имеет атрибута feature_importances_)! \n",
    "</div>"
   ]
  },
  {
   "cell_type": "markdown",
   "id": "8c8ff9f6",
   "metadata": {},
   "source": [
    "\n",
    "\n",
    "<div class=\"alert alert-block alert-warning\">\n",
    "<b>Совет[2]</b> Потому что GridSearchCV - это не модель машинного обучения, а инструмент для работы с моделью. Можно получить feature_importances_  вытащив модель через .best_estimator_ \n",
    "\n",
    "</div>"
   ]
  },
  {
   "cell_type": "code",
   "execution_count": 65,
   "id": "a004dcb0",
   "metadata": {},
   "outputs": [
    {
     "data": {
      "text/html": [
       "<div>\n",
       "<style scoped>\n",
       "    .dataframe tbody tr th:only-of-type {\n",
       "        vertical-align: middle;\n",
       "    }\n",
       "\n",
       "    .dataframe tbody tr th {\n",
       "        vertical-align: top;\n",
       "    }\n",
       "\n",
       "    .dataframe thead th {\n",
       "        text-align: right;\n",
       "    }\n",
       "</style>\n",
       "<table border=\"1\" class=\"dataframe\">\n",
       "  <thead>\n",
       "    <tr style=\"text-align: right;\">\n",
       "      <th></th>\n",
       "      <th>Признак</th>\n",
       "      <th>importance</th>\n",
       "    </tr>\n",
       "  </thead>\n",
       "  <tbody>\n",
       "    <tr>\n",
       "      <th>0</th>\n",
       "      <td>RegistrationYear</td>\n",
       "      <td>580</td>\n",
       "    </tr>\n",
       "    <tr>\n",
       "      <th>1</th>\n",
       "      <td>Power</td>\n",
       "      <td>579</td>\n",
       "    </tr>\n",
       "    <tr>\n",
       "      <th>2</th>\n",
       "      <td>Model</td>\n",
       "      <td>543</td>\n",
       "    </tr>\n",
       "    <tr>\n",
       "      <th>3</th>\n",
       "      <td>Brand</td>\n",
       "      <td>482</td>\n",
       "    </tr>\n",
       "    <tr>\n",
       "      <th>4</th>\n",
       "      <td>VehicleType</td>\n",
       "      <td>269</td>\n",
       "    </tr>\n",
       "    <tr>\n",
       "      <th>5</th>\n",
       "      <td>Kilometer</td>\n",
       "      <td>265</td>\n",
       "    </tr>\n",
       "    <tr>\n",
       "      <th>6</th>\n",
       "      <td>Repaired</td>\n",
       "      <td>94</td>\n",
       "    </tr>\n",
       "    <tr>\n",
       "      <th>7</th>\n",
       "      <td>Gearbox</td>\n",
       "      <td>92</td>\n",
       "    </tr>\n",
       "    <tr>\n",
       "      <th>8</th>\n",
       "      <td>RegistrationMonth</td>\n",
       "      <td>72</td>\n",
       "    </tr>\n",
       "    <tr>\n",
       "      <th>9</th>\n",
       "      <td>FuelType</td>\n",
       "      <td>24</td>\n",
       "    </tr>\n",
       "  </tbody>\n",
       "</table>\n",
       "</div>"
      ],
      "text/plain": [
       "             Признак  importance\n",
       "0   RegistrationYear         580\n",
       "1              Power         579\n",
       "2              Model         543\n",
       "3              Brand         482\n",
       "4        VehicleType         269\n",
       "5          Kilometer         265\n",
       "6           Repaired          94\n",
       "7            Gearbox          92\n",
       "8  RegistrationMonth          72\n",
       "9           FuelType          24"
      ]
     },
     "execution_count": 65,
     "metadata": {},
     "output_type": "execute_result"
    }
   ],
   "source": [
    "# Моя попытка (Обучал заново модель)\n",
    "\n",
    "best_model = LGBMRegressor()\n",
    "best_model.fit(features_train_scaled, target_train)\n",
    "importances = best_model.feature_importances_\n",
    "feature_list = list(features_train_scaled.columns)\n",
    "feature_results = pd.DataFrame({'Признак': feature_list,'importance': importances})\n",
    "feature_results = feature_results.sort_values('importance',ascending = False).reset_index(drop=True)\n",
    "\n",
    "feature_results.head(10)"
   ]
  },
  {
   "cell_type": "code",
   "execution_count": 66,
   "id": "214317f6",
   "metadata": {},
   "outputs": [
    {
     "data": {
      "image/png": "[encoded data removed]",
      "text/plain": [
       "<Figure size 1000x300 with 1 Axes>"
      ]
     },
     "metadata": {},
     "output_type": "display_data"
    }
   ],
   "source": [
    "fig, ax = plt.subplots(figsize=(10,3))\n",
    "feature_results.plot(kind = 'bar', ax =ax)\n",
    "ax.set_title(\"Важность признаков\")\n",
    "ax.set_ylabel('Важность')\n",
    "ax.xticks = feature_list\n",
    "plt.show()"
   ]
  },
  {
   "cell_type": "code",
   "execution_count": 67,
   "id": "e119222f",
   "metadata": {},
   "outputs": [
    {
     "data": {
      "image/png": "[encoded data removed]",
      "text/plain": [
       "<Figure size 1000x300 with 1 Axes>"
      ]
     },
     "metadata": {},
     "output_type": "display_data"
    }
   ],
   "source": [
    "# График на основе phik\n",
    "\n",
    "fig, ax = plt.subplots(figsize=(10,3))\n",
    "phik_corr[1:].plot(kind = 'bar', ax =ax)\n",
    "ax.set_title(\"Важность признаков\")\n",
    "ax.set_ylabel('Важность')\n",
    "ax.xticks = feature_list\n",
    "plt.show()"
   ]
  }
 ],
 "metadata": {
  "kernelspec": {
   "display_name": "Python 3 (ipykernel)",
   "language": "python",
   "name": "python3"
  },
  "language_info": {
   "codemirror_mode": {
    "name": "ipython",
    "version": 3
   },
   "file_extension": ".py",
   "mimetype": "text/x-python",
   "name": "python",
   "nbconvert_exporter": "python",
   "pygments_lexer": "ipython3",
   "version": "3.9.5"
  },
  "toc": {
   "base_numbering": "1",
   "nav_menu": {},
   "number_sections": true,
   "sideBar": true,
   "skip_h1_title": true,
   "title_cell": "",
   "title_sidebar": "Contents",
   "toc_cell": false,
   "toc_position": {
    "height": "22px",
    "left": "47px",
    "top": "272px",
    "width": "223.359375px"
   },
   "toc_section_display": true,
   "toc_window_display": true
  }
 },
 "nbformat": 4,
 "nbformat_minor": 5
}
